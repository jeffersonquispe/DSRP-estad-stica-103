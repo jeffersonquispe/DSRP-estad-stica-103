{
  "nbformat": 4,
  "nbformat_minor": 0,
  "metadata": {
    "colab": {
      "name": "Estadistica_modulo01_Classe03_Profe.ipynb",
      "provenance": [],
      "collapsed_sections": [],
      "include_colab_link": true
    },
    "kernelspec": {
      "name": "python3",
      "display_name": "Python 3"
    }
  },
  "cells": [
    {
      "cell_type": "markdown",
      "metadata": {
        "id": "view-in-github",
        "colab_type": "text"
      },
      "source": [
        "<a href=\"https://colab.research.google.com/github/jeffersonquispe/DSRP-estadistica-102/blob/master/Estadistica_modulo01_Classe03_Profe.ipynb\" target=\"_parent\"><img src=\"https://colab.research.google.com/assets/colab-badge.svg\" alt=\"Open In Colab\"/></a>"
      ]
    },
    {
      "cell_type": "markdown",
      "metadata": {
        "id": "tuGAsfMfVQKd",
        "colab_type": "text"
      },
      "source": [
        " ![texto alternativo](https://drive.google.com/uc?export=view&id=14HGkNoRD0Cp4Z0KyPxvrLaj_u3eG97hC)"
      ]
    },
    {
      "cell_type": "markdown",
      "metadata": {
        "id": "acTm6PlXVSqM",
        "colab_type": "text"
      },
      "source": [
        " <img src=\"https://drive.google.com/uc?export=view&id=1Y-H2d0EzmNp2iwCH17LHxvo7Tax3C65R\" alt=\"Simply Easy Learning\" width=\"800\" \n",
        "         height=\"450\">\n",
        "\n",
        "\n",
        "      "
      ]
    },
    {
      "cell_type": "markdown",
      "metadata": {
        "id": "jnScIJom7-7v",
        "colab_type": "text"
      },
      "source": [
        " <img src=\"https://drive.google.com/uc?export=view&id=1OmpoEyGZXZPDJ8IQ1KhnYjYxuBhqb1ps\" alt=\"Simply Easy Learning\" width=\"800\" \n",
        "         height=\"450\">"
      ]
    },
    {
      "cell_type": "markdown",
      "metadata": {
        "id": "rGWv7r287p3K",
        "colab_type": "text"
      },
      "source": [
        " <img src=\"https://drive.google.com/uc?export=view&id=10m5chnld1ZD1a8mBv91bzeBWB5MPlMFj\" alt=\"Simply Easy Learning\" width=\"800\" \n",
        "         height=\"455\">"
      ]
    },
    {
      "cell_type": "markdown",
      "metadata": {
        "id": "0gfLpyDY7xWh",
        "colab_type": "text"
      },
      "source": [
        " <img src=\"https://drive.google.com/uc?export=view&id=1nJrzGcWncNM9jP1aJgzLIB7KIncyDjUV\" alt=\"Simply Easy Learning\" width=\"800\" \n",
        "         height=\"455\">"
      ]
    },
    {
      "cell_type": "markdown",
      "metadata": {
        "id": "XL8ajjGo78yr",
        "colab_type": "text"
      },
      "source": [
        " <img src=\"https://drive.google.com/uc?export=view&id=13an79aLaRFMahp2HHdhRRyHM5RwWEOqu\" alt=\"Simply Easy Learning\" width=\"800\" \n",
        "         height=\"455\">"
      ]
    },
    {
      "cell_type": "markdown",
      "metadata": {
        "id": "GHpn1x4D7kFh",
        "colab_type": "text"
      },
      "source": [
        " <img src=\"https://drive.google.com/uc?export=view&id=1vrWf5iMHo3kPT6m42OWvUI2sAKSr-9Fo\" alt=\"Simply Easy Learning\" width=\"800\" \n",
        "         height=\"455\">"
      ]
    },
    {
      "cell_type": "code",
      "metadata": {
        "id": "oB6LFYwMfVBv",
        "colab_type": "code",
        "colab": {}
      },
      "source": [
        "import numpy as np\n",
        "import pandas as pd\n",
        "age = [45,50,19,60,15,20,33,12,20,80]\n",
        "valores = pd.Series([45,50,19,60,15,20,33,12,20,80])"
      ],
      "execution_count": 49,
      "outputs": []
    },
    {
      "cell_type": "code",
      "metadata": {
        "id": "vcxKfDkchkQR",
        "colab_type": "code",
        "colab": {}
      },
      "source": [
        "def stat(valores):\n",
        "    mode = valores.mode()\n",
        "    mediana = valores.median()\n",
        "    mean = valores.mean()\n",
        "\n",
        "    if mean < mediana < mode:\n",
        "      print('Asimétrica negativa')\n",
        "    else:  \n",
        "      if mean == mediana == mode:\n",
        "        print('Simétrica')\n",
        "      else:\n",
        "        print('Asimétrica positiva')"
      ],
      "execution_count": 50,
      "outputs": []
    },
    {
      "cell_type": "code",
      "metadata": {
        "id": "eY90txcw1ZoA",
        "colab_type": "code",
        "colab": {
          "base_uri": "https://localhost:8080/",
          "height": 34
        },
        "outputId": "b4b2b9e3-ee10-4221-9aa4-43b317573a1f"
      },
      "source": [
        "stat(valores)"
      ],
      "execution_count": 51,
      "outputs": [
        {
          "output_type": "stream",
          "text": [
            "Asimétrica positiva\n"
          ],
          "name": "stdout"
        }
      ]
    },
    {
      "cell_type": "markdown",
      "metadata": {
        "id": "e47944EJ9ZVT",
        "colab_type": "text"
      },
      "source": [
        " <img src=\"https://drive.google.com/uc?export=view&id=1OrOL958zEWqTaNt4hNcYuFbejbWv07p6\" alt=\"Simply Easy Learning\" width=\"800\" \n",
        "         height=\"455\">\n"
      ]
    },
    {
      "cell_type": "code",
      "metadata": {
        "id": "8bHwYlAz9uBS",
        "colab_type": "code",
        "colab": {
          "base_uri": "https://localhost:8080/",
          "height": 221
        },
        "outputId": "075ec050-9da5-4e9b-8065-58ca1ad76b31"
      },
      "source": [
        "import pandas as pd\n",
        "cant_sacos = pd.Series([3780, 3690, 3700, 3770, 3730,3800, 3790, 3680, 3720, 3740, 3750], \n",
        "                          index = [\"Enero\", \"Febrero\", \"Marzo\", \"Abril\", \"Mayo\", \"Junio\", \"Julio\", \"Agosto\", \"Setiembre\", \"Octubre\", \"Noviembre\"])\n",
        "cant_sacos\n"
      ],
      "execution_count": 52,
      "outputs": [
        {
          "output_type": "execute_result",
          "data": {
            "text/plain": [
              "Enero        3780\n",
              "Febrero      3690\n",
              "Marzo        3700\n",
              "Abril        3770\n",
              "Mayo         3730\n",
              "Junio        3800\n",
              "Julio        3790\n",
              "Agosto       3680\n",
              "Setiembre    3720\n",
              "Octubre      3740\n",
              "Noviembre    3750\n",
              "dtype: int64"
            ]
          },
          "metadata": {
            "tags": []
          },
          "execution_count": 52
        }
      ]
    },
    {
      "cell_type": "code",
      "metadata": {
        "id": "aKL7YRfLGeeR",
        "colab_type": "code",
        "colab": {
          "base_uri": "https://localhost:8080/",
          "height": 170
        },
        "outputId": "4a2c7fcb-269d-4257-a383-2ddd0ffe7e05"
      },
      "source": [
        "cant_sacos.describe()\n",
        "#cant_sacos.plot.bar()"
      ],
      "execution_count": 53,
      "outputs": [
        {
          "output_type": "execute_result",
          "data": {
            "text/plain": [
              "count      11.000000\n",
              "mean     3740.909091\n",
              "std        41.098551\n",
              "min      3680.000000\n",
              "25%      3710.000000\n",
              "50%      3740.000000\n",
              "75%      3775.000000\n",
              "max      3800.000000\n",
              "dtype: float64"
            ]
          },
          "metadata": {
            "tags": []
          },
          "execution_count": 53
        }
      ]
    },
    {
      "cell_type": "markdown",
      "metadata": {
        "id": "oLWrf3RYQGus",
        "colab_type": "text"
      },
      "source": [
        "**Media aritmetica ponderada**\n",
        "\n",
        "Es apropiada cuando en un conjunto de datos cada uno de ellos tiene una importancia relativa (o peso) respecto de los demás datos.\n",
        "\n",
        "$\\mu=\\frac{\\sum_i^n{x_iw_i}}{\\sum_i^n{w_i}}$\n",
        "\n",
        "Si los pesos son iguales, esto es $w_{i}=w$ para  $1\\leq i\\leq n$, entonces la media ponderada coincide con la **media aritmética**."
      ]
    },
    {
      "cell_type": "code",
      "metadata": {
        "id": "37HwDb8wlh3c",
        "colab_type": "code",
        "colab": {
          "base_uri": "https://localhost:8080/",
          "height": 34
        },
        "outputId": "22db7b1b-6b6a-4dfb-e045-3c58046ff220"
      },
      "source": [
        "# Problema de la mochila\n",
        "cuaderno = 5\n",
        "libro = 10\n",
        "cartuchera = 8\n",
        "folder = 2\n",
        "\n",
        "# OBSERVACION\n",
        "# A la capacidad -> peso (kg)\n",
        "\n",
        "objetos = [2,6,4,3]\n",
        "pesos = [5,10,8,2]\n",
        "\n",
        "media_ponderada = np.average(objetos, weights=pesos)\n",
        "media_ponderada\n"
      ],
      "execution_count": 54,
      "outputs": [
        {
          "output_type": "execute_result",
          "data": {
            "text/plain": [
              "4.32"
            ]
          },
          "metadata": {
            "tags": []
          },
          "execution_count": 54
        }
      ]
    },
    {
      "cell_type": "markdown",
      "metadata": {
        "id": "rlY4wx0XnTYm",
        "colab_type": "text"
      },
      "source": [
        "Una aldea sufre un proceso rápido de envejecimiento. El primer año aumentan los mayores de 65 años un 10%, el segundo año, un 20%, el tercer año un 30% y el cuarto año, un 40%.\n",
        "\n",
        "Si la población de inicial es de 100 mayores de 65 años, ¿cuál será un mejor indicador para caracterizar ese envejecimiento: la media aritmética o la media geométrica?"
      ]
    },
    {
      "cell_type": "code",
      "metadata": {
        "id": "-4ljnIjsniTl",
        "colab_type": "code",
        "colab": {
          "base_uri": "https://localhost:8080/",
          "height": 34
        },
        "outputId": "deefde3f-448b-44bc-dd98-0f40c31f61a9"
      },
      "source": [
        "#100*1.10*1.20*1.30*1.40\n",
        "import math\n",
        "res = (1.1*1.2*1.3*1.4)**(1/4)\n",
        "res\n"
      ],
      "execution_count": 55,
      "outputs": [
        {
          "output_type": "execute_result",
          "data": {
            "text/plain": [
              "1.2449770044461885"
            ]
          },
          "metadata": {
            "tags": []
          },
          "execution_count": 55
        }
      ]
    },
    {
      "cell_type": "markdown",
      "metadata": {
        "id": "duoo-8Y5IyWP",
        "colab_type": "text"
      },
      "source": [
        " <img src=\"https://drive.google.com/uc?export=view&id=1jzGtPJyBjfEibHQq-HcFsubqlVJavjkV\" alt=\"Simply Easy Learning\" width=\"800\" \n",
        "         height=\"455\">\n"
      ]
    },
    {
      "cell_type": "code",
      "metadata": {
        "id": "lqfc8SBvqtyA",
        "colab_type": "code",
        "colab": {
          "base_uri": "https://localhost:8080/",
          "height": 68
        },
        "outputId": "14893c1d-33ff-4790-cb5c-bddf633b58fb"
      },
      "source": [
        "# -----Q1-----Q2-----Q3-----\n",
        "# ordenados!!!\n",
        "# Q1 = cae en el 25%\n",
        "# Q2 = cae en el 50% -> mediana\n",
        "# Q3 = cae en el 75%\n",
        "import numpy as np\n",
        "lista_np = np.array([0,1,2,3,4,5,6,7,8,9])\n",
        "Q1 = np.percentile(lista_np,25)\n",
        "print(Q1)\n",
        "Q2 = np.percentile(lista_np,50)\n",
        "print(Q2)\n",
        "Q3 = np.percentile(lista_np,75)\n",
        "print(Q3)"
      ],
      "execution_count": 56,
      "outputs": [
        {
          "output_type": "stream",
          "text": [
            "2.25\n",
            "4.5\n",
            "6.75\n"
          ],
          "name": "stdout"
        }
      ]
    },
    {
      "cell_type": "markdown",
      "metadata": {
        "id": "eq5LqrzYLPXb",
        "colab_type": "text"
      },
      "source": [
        " <img src=\"https://drive.google.com/uc?export=view&id=12mkyIKWLebwl97KWMHFYU602oqthwGJ5\" alt=\"Simply Easy Learning\" width=\"800\" \n",
        "         height=\"455\">"
      ]
    },
    {
      "cell_type": "code",
      "metadata": {
        "id": "SRdEGh7htUy2",
        "colab_type": "code",
        "colab": {
          "base_uri": "https://localhost:8080/",
          "height": 34
        },
        "outputId": "4734f905-0fa3-4f0d-9c08-9482351074cb"
      },
      "source": [
        "#---D1---D2--D3---D4---D5---D6.....D9\n",
        "#--P1--P2--..........P99\n",
        "#lista_np = np.array([0,1,2,3,4,5,6,7,8,9])\n",
        "lista_np = np.random.randint(1,500,50)\n",
        "#print(lista_np)\n",
        "D1 = np.percentile(lista_np,10)\n",
        "D9 = np.percentile(lista_np,90)\n",
        "p8 = np.percentile(lista_np,8)\n",
        "print(p8)"
      ],
      "execution_count": 57,
      "outputs": [
        {
          "output_type": "stream",
          "text": [
            "61.03999999999999\n"
          ],
          "name": "stdout"
        }
      ]
    },
    {
      "cell_type": "markdown",
      "metadata": {
        "id": "UZMdqddxLiOP",
        "colab_type": "text"
      },
      "source": [
        " <img src=\"https://drive.google.com/uc?export=view&id=1-EGcc-6569xF2E8kmWjdVDRFJCiySFKv\" alt=\"Simply Easy Learning\" width=\"800\" \n",
        "         height=\"455\">"
      ]
    },
    {
      "cell_type": "code",
      "metadata": {
        "id": "9a0FVQnDxW6J",
        "colab_type": "code",
        "colab": {}
      },
      "source": [
        "# -----Q1-----Q2-----Q3-----\n"
      ],
      "execution_count": 58,
      "outputs": []
    },
    {
      "cell_type": "code",
      "metadata": {
        "id": "gSsbuvYxwcoZ",
        "colab_type": "code",
        "colab": {
          "base_uri": "https://localhost:8080/",
          "height": 34
        },
        "outputId": "369f7ad0-5315-4e88-9b77-3860416bc57d"
      },
      "source": [
        "my_lista = np.array([4, 6, 8 ,9 ,25, 80, 90])\n",
        "R = my_lista.max() - my_lista.min()\n",
        "R\n"
      ],
      "execution_count": 59,
      "outputs": [
        {
          "output_type": "execute_result",
          "data": {
            "text/plain": [
              "86"
            ]
          },
          "metadata": {
            "tags": []
          },
          "execution_count": 59
        }
      ]
    },
    {
      "cell_type": "code",
      "metadata": {
        "id": "ZKj2mfueYd-T",
        "colab_type": "code",
        "colab": {
          "base_uri": "https://localhost:8080/",
          "height": 204
        },
        "outputId": "86091fd6-5eb9-4b59-8aca-d2ab9b62bcb0"
      },
      "source": [
        "import pandas as pd\n",
        "iris = pd.read_csv(\"https://raw.githubusercontent.com/toneloy/data/master/iris.csv\")\n",
        "iris.head()"
      ],
      "execution_count": 60,
      "outputs": [
        {
          "output_type": "execute_result",
          "data": {
            "text/html": [
              "<div>\n",
              "<style scoped>\n",
              "    .dataframe tbody tr th:only-of-type {\n",
              "        vertical-align: middle;\n",
              "    }\n",
              "\n",
              "    .dataframe tbody tr th {\n",
              "        vertical-align: top;\n",
              "    }\n",
              "\n",
              "    .dataframe thead th {\n",
              "        text-align: right;\n",
              "    }\n",
              "</style>\n",
              "<table border=\"1\" class=\"dataframe\">\n",
              "  <thead>\n",
              "    <tr style=\"text-align: right;\">\n",
              "      <th></th>\n",
              "      <th>sepal_length</th>\n",
              "      <th>sepal_width</th>\n",
              "      <th>petal_length</th>\n",
              "      <th>petal_width</th>\n",
              "      <th>species</th>\n",
              "    </tr>\n",
              "  </thead>\n",
              "  <tbody>\n",
              "    <tr>\n",
              "      <th>0</th>\n",
              "      <td>5.1</td>\n",
              "      <td>3.5</td>\n",
              "      <td>1.4</td>\n",
              "      <td>0.2</td>\n",
              "      <td>setosa</td>\n",
              "    </tr>\n",
              "    <tr>\n",
              "      <th>1</th>\n",
              "      <td>4.9</td>\n",
              "      <td>3.0</td>\n",
              "      <td>1.4</td>\n",
              "      <td>0.2</td>\n",
              "      <td>setosa</td>\n",
              "    </tr>\n",
              "    <tr>\n",
              "      <th>2</th>\n",
              "      <td>4.7</td>\n",
              "      <td>3.2</td>\n",
              "      <td>1.3</td>\n",
              "      <td>0.2</td>\n",
              "      <td>setosa</td>\n",
              "    </tr>\n",
              "    <tr>\n",
              "      <th>3</th>\n",
              "      <td>4.6</td>\n",
              "      <td>3.1</td>\n",
              "      <td>1.5</td>\n",
              "      <td>0.2</td>\n",
              "      <td>setosa</td>\n",
              "    </tr>\n",
              "    <tr>\n",
              "      <th>4</th>\n",
              "      <td>5.0</td>\n",
              "      <td>3.6</td>\n",
              "      <td>1.4</td>\n",
              "      <td>0.2</td>\n",
              "      <td>setosa</td>\n",
              "    </tr>\n",
              "  </tbody>\n",
              "</table>\n",
              "</div>"
            ],
            "text/plain": [
              "   sepal_length  sepal_width  petal_length  petal_width species\n",
              "0           5.1          3.5           1.4          0.2  setosa\n",
              "1           4.9          3.0           1.4          0.2  setosa\n",
              "2           4.7          3.2           1.3          0.2  setosa\n",
              "3           4.6          3.1           1.5          0.2  setosa\n",
              "4           5.0          3.6           1.4          0.2  setosa"
            ]
          },
          "metadata": {
            "tags": []
          },
          "execution_count": 60
        }
      ]
    },
    {
      "cell_type": "code",
      "metadata": {
        "id": "ktayVMegaAcG",
        "colab_type": "code",
        "colab": {
          "base_uri": "https://localhost:8080/",
          "height": 423
        },
        "outputId": "6833cdad-5beb-4a6e-eef6-81f5a94a2e70"
      },
      "source": [
        "from plotnine import *\n",
        "\n",
        "(ggplot(iris) +\n",
        "  geom_boxplot(aes(x=0, y=\"sepal_length\")) +\n",
        "  labs(x=\"\") +\n",
        "  theme(\n",
        "    axis_text_x=element_blank(),\n",
        "    axis_ticks_minor_x=element_blank(),\n",
        "    axis_ticks_major_x=element_blank()\n",
        "  ))"
      ],
      "execution_count": 61,
      "outputs": [
        {
          "output_type": "display_data",
          "data": {
            "image/png": "[encoded data removed]",
            "text/plain": [
              "<Figure size 640x480 with 1 Axes>"
            ]
          },
          "metadata": {
            "tags": []
          }
        },
        {
          "output_type": "execute_result",
          "data": {
            "text/plain": [
              "<ggplot: (-9223363248958149744)>"
            ]
          },
          "metadata": {
            "tags": []
          },
          "execution_count": 61
        }
      ]
    },
    {
      "cell_type": "code",
      "metadata": {
        "id": "Gj1XzVAAYf-a",
        "colab_type": "code",
        "colab": {
          "base_uri": "https://localhost:8080/",
          "height": 464
        },
        "outputId": "9dc82d00-438c-4c6a-9708-295db50fe282"
      },
      "source": [
        "from plotnine import *\n",
        "(ggplot(iris) +\n",
        "  geom_boxplot(aes(x=\"species\", y=\"sepal_length\")))"
      ],
      "execution_count": 62,
      "outputs": [
        {
          "output_type": "display_data",
          "data": {
            "image/png": "[encoded data removed]",
            "text/plain": [
              "<Figure size 640x480 with 1 Axes>"
            ]
          },
          "metadata": {
            "tags": []
          }
        },
        {
          "output_type": "execute_result",
          "data": {
            "text/plain": [
              "<ggplot: (8787867308769)>"
            ]
          },
          "metadata": {
            "tags": []
          },
          "execution_count": 62
        }
      ]
    },
    {
      "cell_type": "markdown",
      "metadata": {
        "id": "MAPWDaYELpmf",
        "colab_type": "text"
      },
      "source": [
        " <img src=\"https://drive.google.com/uc?export=view&id=1C17Psu-vVE2Gv_z0vCeyE0vFK0dEComA\" alt=\"Simply Easy Learning\" width=\"800\" \n",
        "         height=\"455\">\n",
        "\n"
      ]
    },
    {
      "cell_type": "code",
      "metadata": {
        "id": "20Gb6ZldAmAq",
        "colab_type": "code",
        "colab": {
          "base_uri": "https://localhost:8080/",
          "height": 554
        },
        "outputId": "702f1515-54ed-408d-c629-aee3bd53cb90"
      },
      "source": [
        "import numpy as np\n",
        "import matplotlib.pyplot as plt\n",
        "\n",
        "metodo1 = np.array([10,20,30,40,50]) # experimentos 5 veces en mi modelo\n",
        "var1=np.var(metodo1) # menor estabilidad\n",
        "print(var1)\n",
        "\n",
        "metodo2 = np.array([40.5,38.9,48.4,40,50]) # experimentos 5 veces en mi modelo\n",
        "var2=np.var(metodo2)\n",
        "print(var2)\n",
        "\n",
        "plt.boxplot([metodo1,metodo2])\n"
      ],
      "execution_count": 63,
      "outputs": [
        {
          "output_type": "stream",
          "text": [
            "200.0\n",
            "21.730400000000003\n"
          ],
          "name": "stdout"
        },
        {
          "output_type": "execute_result",
          "data": {
            "text/plain": [
              "{'boxes': [<matplotlib.lines.Line2D at 0x7fe15b415748>,\n",
              "  <matplotlib.lines.Line2D at 0x7fe15b422f60>],\n",
              " 'caps': [<matplotlib.lines.Line2D at 0x7fe15b422198>,\n",
              "  <matplotlib.lines.Line2D at 0x7fe15b422518>,\n",
              "  <matplotlib.lines.Line2D at 0x7fe15b42ca58>,\n",
              "  <matplotlib.lines.Line2D at 0x7fe15b42cdd8>],\n",
              " 'fliers': [<matplotlib.lines.Line2D at 0x7fe15b422c18>,\n",
              "  <matplotlib.lines.Line2D at 0x7fe15b437518>],\n",
              " 'means': [],\n",
              " 'medians': [<matplotlib.lines.Line2D at 0x7fe15b422898>,\n",
              "  <matplotlib.lines.Line2D at 0x7fe15b437198>],\n",
              " 'whiskers': [<matplotlib.lines.Line2D at 0x7fe15b415a58>,\n",
              "  <matplotlib.lines.Line2D at 0x7fe15b415dd8>,\n",
              "  <matplotlib.lines.Line2D at 0x7fe15b42c358>,\n",
              "  <matplotlib.lines.Line2D at 0x7fe15b42c6d8>]}"
            ]
          },
          "metadata": {
            "tags": []
          },
          "execution_count": 63
        },
        {
          "output_type": "display_data",
          "data": {
            "image/png": "[encoded data removed]",
            "text/plain": [
              "<Figure size 432x288 with 1 Axes>"
            ]
          },
          "metadata": {
            "tags": [],
            "needs_background": "light"
          }
        }
      ]
    },
    {
      "cell_type": "code",
      "metadata": {
        "id": "rAqfuQUdSQ7e",
        "colab_type": "code",
        "colab": {}
      },
      "source": [
        "# data era manejable a nivel exploratorio (decriptiva)\n",
        "# faltaban información"
      ],
      "execution_count": 64,
      "outputs": []
    },
    {
      "cell_type": "markdown",
      "metadata": {
        "id": "gbf09zpwLyqv",
        "colab_type": "text"
      },
      "source": [
        " <img src=\"https://drive.google.com/uc?export=view&id=1OgkDO9_FO-mhG0AHMIJuznLIPYum4zFW\" alt=\"Simply Easy Learning\" width=\"800\" \n",
        "         height=\"455\">\n",
        "\n",
        "\n"
      ]
    },
    {
      "cell_type": "code",
      "metadata": {
        "id": "9zCW66oxUZZq",
        "colab_type": "code",
        "colab": {
          "base_uri": "https://localhost:8080/",
          "height": 51
        },
        "outputId": "95980f65-fc25-4c91-deeb-0eca9ff16fd2"
      },
      "source": [
        "np.random.seed(10)\n",
        "X = np.array([4,3,5])#np.random.randint(1, 50, 10)\n",
        "b = 2 #valor de ajuste\n",
        "c = 4\n",
        "\n",
        "Y = X + b\n",
        "'''\n",
        " X0 X1 X2  Y\n",
        " 4  5  6   4 +2=6  \n",
        " 3  2  8   3 +2=5\n",
        " 5  7  9   5 +2=7\n",
        "'''\n",
        "\n",
        "#p1\n",
        "sy2 = np.var(X)\n",
        "sx2 = np.var(Y)\n",
        "print(f\"sy2:{sy2}, sx2:{sx2}\") # forma de mostrar valores con texto en Python3\n",
        "print(\"sy2:\",sy2, \"sx2:\", sx2) # clásica"
      ],
      "execution_count": 65,
      "outputs": [
        {
          "output_type": "stream",
          "text": [
            "sy2:0.6666666666666666, sx2:0.6666666666666666\n",
            "sy2: 0.6666666666666666 sx2: 0.6666666666666666\n"
          ],
          "name": "stdout"
        }
      ]
    },
    {
      "cell_type": "code",
      "metadata": {
        "id": "L_wfEYBOXkGm",
        "colab_type": "code",
        "colab": {
          "base_uri": "https://localhost:8080/",
          "height": 34
        },
        "outputId": "20f24b6a-8fd1-447a-bfc0-d806918f098c"
      },
      "source": [
        "np.random.seed(10)\n",
        "X = np.array([4,3,5])#np.random.randint(1, 50, 10)\n",
        "b = 2 #valor de ajuste\n",
        "c = 4\n",
        "\n",
        "Y = X * c\n",
        "'''\n",
        " X0 X1 X2  Y\n",
        " 4  5  6   4 x4=16 \n",
        " 3  2  8   3 x4=12\n",
        " 5  7  9   5 x4=20\n",
        "'''\n",
        "print(\"sy2:\", np.var(Y), \"sx2:\", np.var(X)*c**2)\n"
      ],
      "execution_count": 66,
      "outputs": [
        {
          "output_type": "stream",
          "text": [
            "sy2: 10.666666666666666 sx2: 10.666666666666666\n"
          ],
          "name": "stdout"
        }
      ]
    },
    {
      "cell_type": "code",
      "metadata": {
        "id": "7tqsKslui5Wo",
        "colab_type": "code",
        "colab": {
          "base_uri": "https://localhost:8080/",
          "height": 68
        },
        "outputId": "e141be06-4621-435a-f3bd-a9914bedfebc"
      },
      "source": [
        "# \n",
        "np.random.seed(10)\n",
        "x = np.random.randint(1, 50, 10)\n",
        "b = 2\n",
        "c = 4\n",
        "# Propiedad 1\n",
        "#y = x + b \n",
        "#sy2 = np.var(y)\n",
        "#sx2 = np.var(x)\n",
        "#print(f\"x={x}\")\n",
        "#print(f\"y={y}\")\n",
        "#print(f\"sy2={sy2:.2f} sx2 ={sx2:.2f}\")\n",
        "\n",
        "# Propiedad 2\n",
        "y = c*x + b\n",
        "sy2 = np.var(y)\n",
        "sx2 = np.var(x)\n",
        "print(f\"x={x}\")\n",
        "print(f\"y={y}\")\n",
        "print(f\"sy2={sy2} sx2 ={sx2}\")"
      ],
      "execution_count": 67,
      "outputs": [
        {
          "output_type": "stream",
          "text": [
            "x=[10 37 16  1 29 26 30 49 30  9]\n",
            "y=[ 42 150  66   6 118 106 122 198 122  38]\n",
            "sy2=3052.96 sx2 =190.81\n"
          ],
          "name": "stdout"
        }
      ]
    },
    {
      "cell_type": "code",
      "metadata": {
        "id": "WbRwuYkJZl-u",
        "colab_type": "code",
        "colab": {
          "base_uri": "https://localhost:8080/",
          "height": 34
        },
        "outputId": "a19a2ef3-2c42-45ef-eda3-e0fc7c873b08"
      },
      "source": [
        "np.random.seed(10)\n",
        "X = np.array([4,3,5])#np.random.randint(1, 50, 10)\n",
        "b = 2 #valor de ajuste\n",
        "c = 4\n",
        " \n",
        "Y = X * c +b\n",
        "'''\n",
        " X0 X1 X2  Y\n",
        " 4  5  6   4 x4+2=18\n",
        " 3  2  8   3 x4+2=14\n",
        " 5  7  9   5 x4+2=22\n",
        "'''\n",
        "print(\"sy2:\", np.var(Y), \"sx2:\", np.var(X)*c**2)"
      ],
      "execution_count": 68,
      "outputs": [
        {
          "output_type": "stream",
          "text": [
            "sy2: 10.666666666666666 sx2: 10.666666666666666\n"
          ],
          "name": "stdout"
        }
      ]
    },
    {
      "cell_type": "markdown",
      "metadata": {
        "id": "MPfybtNLL9D3",
        "colab_type": "text"
      },
      "source": [
        " <img src=\"https://drive.google.com/uc?export=view&id=15aIqabLJ4ZqC_fkCADHUWqwt_131SAHf\" alt=\"Simply Easy Learning\" width=\"800\" \n",
        "         height=\"455\">"
      ]
    },
    {
      "cell_type": "code",
      "metadata": {
        "id": "X6puTGZiBf9N",
        "colab_type": "code",
        "colab": {
          "base_uri": "https://localhost:8080/",
          "height": 51
        },
        "outputId": "44c7e432-7fbf-44bc-8f8c-86c42483baa4"
      },
      "source": [
        "#----0--4000--0---  s = 300\n",
        "#0------600-------0 s = 300\n",
        "cv_tv = 300/4000*100\n",
        "print(cv_tv)\n",
        "cv_pl = 300/600*100\n",
        "print(cv_pl)\n"
      ],
      "execution_count": 69,
      "outputs": [
        {
          "output_type": "stream",
          "text": [
            "7.5\n",
            "50.0\n"
          ],
          "name": "stdout"
        }
      ]
    },
    {
      "cell_type": "markdown",
      "metadata": {
        "id": "PZ8wx3ccMIxP",
        "colab_type": "text"
      },
      "source": [
        " <img src=\"https://drive.google.com/uc?export=view&id=1YVvbySbliAI0XxYkwE4LEY80CLLSiiJy\" alt=\"Simply Easy Learning\" width=\"800\" \n",
        "         height=\"455\">"
      ]
    },
    {
      "cell_type": "markdown",
      "metadata": {
        "id": "IoMfQRDeQ74B",
        "colab_type": "text"
      },
      "source": [
        "La **curtosis** (también conocida como medida de apuntamiento) es una medida estadística, que determina el grado de concentración que presentan los valores de una variable alrededor de la zona central de la distribución de frecuencias.\n",
        "Tomando, pues, la distribución normal como referencia, una distribución puede ser:\n",
        "\n",
        "* **leptocúrtica**, cuando  β2>3  y  g2>0 : más apuntada y con colas más gruesas que la normal.\n",
        "* **platicúrtica**,  β2<3  y  g2<0 : menos apuntada y con colas menos gruesas que la normal.\n",
        "* **mesocúrtica**,  β2=3  y  g2=0 : cuando tiene una distribución normal."
      ]
    },
    {
      "cell_type": "code",
      "metadata": {
        "id": "_HicEF_oceXG",
        "colab_type": "code",
        "colab": {
          "base_uri": "https://localhost:8080/",
          "height": 282
        },
        "outputId": "2572bee3-be77-49f9-8864-22c0d1b9b851"
      },
      "source": [
        "arreglo = ([20,41,57,68,81,73,45,19,24,35,69,85,47,63,45])\n",
        "curt = (np.percentile(arreglo,75)-np.percentile(arreglo,25))/(2*(np.percentile(arreglo,90)-(np.percentile(arreglo,10))))\n",
        "import seaborn as sbs\n",
        "sbs.distplot(arreglo)\n",
        "\n",
        "\n",
        "\n",
        "\n",
        "\n"
      ],
      "execution_count": 70,
      "outputs": [
        {
          "output_type": "execute_result",
          "data": {
            "text/plain": [
              "<matplotlib.axes._subplots.AxesSubplot at 0x7fe15ac8d6d8>"
            ]
          },
          "metadata": {
            "tags": []
          },
          "execution_count": 70
        },
        {
          "output_type": "display_data",
          "data": {
            "image/png": "[encoded data removed]",
            "text/plain": [
              "<Figure size 432x288 with 1 Axes>"
            ]
          },
          "metadata": {
            "tags": [],
            "needs_background": "light"
          }
        }
      ]
    },
    {
      "cell_type": "code",
      "metadata": {
        "id": "MPlYhykgdAnJ",
        "colab_type": "code",
        "colab": {
          "base_uri": "https://localhost:8080/",
          "height": 368
        },
        "outputId": "1cc3a88a-2c92-430f-8b77-d4de3d79d490"
      },
      "source": [
        "leche= np.array([18.1 ,18.5,19.9,20.4,20.5,21.1,21.3,21.3,21.3,22.0,22.2,22.4])\n",
        "\n",
        "P25 = np.percentile(leche,25)\n",
        "\n",
        "print(P25)\n",
        "\n",
        "P75 = np.percentile(leche,75)\n",
        "\n",
        "print(P75)\n",
        "\n",
        "P90 = np.percentile(leche,90)\n",
        "\n",
        "print(P90)\n",
        "\n",
        "P10 = np.percentile(leche,10)\n",
        "\n",
        "print(P10)\n",
        "\n",
        "#Calculo de curtosis \n",
        "\n",
        "K=(P75-P25)/(2*(P90-P10))\n",
        "\n",
        "print(K)\n",
        "\n",
        "sbs.distplot(leche)"
      ],
      "execution_count": 71,
      "outputs": [
        {
          "output_type": "stream",
          "text": [
            "20.275\n",
            "21.475\n",
            "22.18\n",
            "18.64\n",
            "0.16949152542372925\n"
          ],
          "name": "stdout"
        },
        {
          "output_type": "execute_result",
          "data": {
            "text/plain": [
              "<matplotlib.axes._subplots.AxesSubplot at 0x7fe15ac13630>"
            ]
          },
          "metadata": {
            "tags": []
          },
          "execution_count": 71
        },
        {
          "output_type": "display_data",
          "data": {
            "image/png": "[encoded data removed]",
            "text/plain": [
              "<Figure size 432x288 with 1 Axes>"
            ]
          },
          "metadata": {
            "tags": [],
            "needs_background": "light"
          }
        }
      ]
    },
    {
      "cell_type": "markdown",
      "metadata": {
        "id": "Md_3TPZG3OCL",
        "colab_type": "text"
      },
      "source": [
        "La curtosis (o apuntamiento) es una medida de forma que estima cuán escarpada o achatada está una curva o distribución, respecto a la distribución normal o distribución gaussiana.\n",
        "\n",
        "Indica la cantidad de datos que hay cercanos a la **media**, de manera que a mayor grado de curtosis, más escarpada (o apuntada) será la forma de la curva y viceversa."
      ]
    },
    {
      "cell_type": "code",
      "metadata": {
        "id": "a9w69xVv3Nxr",
        "colab_type": "code",
        "colab": {}
      },
      "source": [
        ""
      ],
      "execution_count": 71,
      "outputs": []
    },
    {
      "cell_type": "markdown",
      "metadata": {
        "id": "_1egqMYzMUux",
        "colab_type": "text"
      },
      "source": [
        " <img src=\"https://drive.google.com/uc?export=view&id=1xuObXZOg5NtbFUrYxwV04FxZ-2eD6VA0\" alt=\"Simply Easy Learning\" width=\"800\" \n",
        "         height=\"455\">"
      ]
    },
    {
      "cell_type": "markdown",
      "metadata": {
        "id": "NHFQe5sOMc1Q",
        "colab_type": "text"
      },
      "source": [
        " <img src=\"https://drive.google.com/uc?export=view&id=1pUkoqK-ssn17FnMZUHvO9Nhprrl7NimX\" alt=\"Simply Easy Learning\" width=\"800\" \n",
        "         height=\"455\">\n"
      ]
    },
    {
      "cell_type": "code",
      "metadata": {
        "id": "tnR8vqLPfnEP",
        "colab_type": "code",
        "colab": {
          "base_uri": "https://localhost:8080/",
          "height": 401
        },
        "outputId": "a1ab8817-48a2-4dd5-8208-f8046985c5ba"
      },
      "source": [
        "import matplotlib.pyplot as plt\n",
        "edades=np.array([20,30,25,40,30,25,40,30,25,40,30,25,40,30,25,40,30,25,40,30,25,40,30,25,40,-50,140,85,92,76,48,100])\n",
        "plt.boxplot(edades)"
      ],
      "execution_count": 72,
      "outputs": [
        {
          "output_type": "execute_result",
          "data": {
            "text/plain": [
              "{'boxes': [<matplotlib.lines.Line2D at 0x7fe15b4e3898>],\n",
              " 'caps': [<matplotlib.lines.Line2D at 0x7fe15b5870f0>,\n",
              "  <matplotlib.lines.Line2D at 0x7fe15b587198>],\n",
              " 'fliers': [<matplotlib.lines.Line2D at 0x7fe15b4f34a8>],\n",
              " 'means': [],\n",
              " 'medians': [<matplotlib.lines.Line2D at 0x7fe15b4f3da0>],\n",
              " 'whiskers': [<matplotlib.lines.Line2D at 0x7fe15b587128>,\n",
              "  <matplotlib.lines.Line2D at 0x7fe15b587828>]}"
            ]
          },
          "metadata": {
            "tags": []
          },
          "execution_count": 72
        },
        {
          "output_type": "display_data",
          "data": {
            "image/png": "[encoded data removed]",
            "text/plain": [
              "<Figure size 432x288 with 1 Axes>"
            ]
          },
          "metadata": {
            "tags": [],
            "needs_background": "light"
          }
        }
      ]
    },
    {
      "cell_type": "markdown",
      "metadata": {
        "id": "eIsuK6FzM2iS",
        "colab_type": "text"
      },
      "source": [
        " <img src=\"https://drive.google.com/uc?export=view&id=1ZEABHPWRmVTKypH2R5qJzZFd6Dl2CU70\" alt=\"Simply Easy Learning\" width=\"800\" \n",
        "         height=\"455\">"
      ]
    },
    {
      "cell_type": "markdown",
      "metadata": {
        "id": "cwh3herbM-4L",
        "colab_type": "text"
      },
      "source": [
        " <img src=\"https://drive.google.com/uc?export=view&id=1WskoJ_SY07P1s0uPuX9Y30WSvZyCAJV8\" alt=\"Simply Easy Learning\" width=\"800\" \n",
        "         height=\"455\">\n"
      ]
    },
    {
      "cell_type": "code",
      "metadata": {
        "id": "W8Nry2Bujt4B",
        "colab_type": "code",
        "colab": {
          "base_uri": "https://localhost:8080/",
          "height": 319
        },
        "outputId": "e004cf53-ab06-4d57-9afa-f64dcf6c4617"
      },
      "source": [
        "fechas = ['19/08/2019', '20/08/2019', '21/08/2019', '22/08/2019', '23/08/2019']\n",
        "primas = [79, 80, 79, 80, 82]\n",
        "#plt.bar(fechas,primas)\n",
        "plt.bar(range(5),primas)\n",
        "plt.xticks(range(5),fechas, rotation = 45)\n",
        "plt.ylim(min(primas)-1, max(primas)+1)\n",
        "plt.title(\"PRIMAS DE RIESGO EN PERU\")\n",
        "plt.show()\n"
      ],
      "execution_count": 73,
      "outputs": [
        {
          "output_type": "display_data",
          "data": {
            "image/png": "[encoded data removed]",
            "text/plain": [
              "<Figure size 432x288 with 1 Axes>"
            ]
          },
          "metadata": {
            "tags": [],
            "needs_background": "light"
          }
        }
      ]
    },
    {
      "cell_type": "code",
      "metadata": {
        "id": "Vc8hrNS9nBc-",
        "colab_type": "code",
        "colab": {
          "base_uri": "https://localhost:8080/",
          "height": 282
        },
        "outputId": "07c368e6-9cfa-4da0-ceee-03267931230e"
      },
      "source": [
        "fechas = ['19/08/2019', '20/08/2019', '21/08/2019', '22/08/2019', '23/08/2019']\n",
        "primas = [79, 80, 79, 80, 82]\n",
        "#plt.bar(fechas,primas)\n",
        "plt.barh(range(5),primas)  #graficar en horizontal\n",
        "plt.yticks(range(5),fechas, rotation = 45)\n",
        "plt.xlim(min(primas)-1, max(primas)+1)\n",
        "plt.title(\"PRIMAS DE RIESGO EN PERU\")\n",
        "plt.show()"
      ],
      "execution_count": 74,
      "outputs": [
        {
          "output_type": "display_data",
          "data": {
            "image/png": "[encoded data removed]",
            "text/plain": [
              "<Figure size 432x288 with 1 Axes>"
            ]
          },
          "metadata": {
            "tags": [],
            "needs_background": "light"
          }
        }
      ]
    },
    {
      "cell_type": "code",
      "metadata": {
        "id": "sak3UwBrnutu",
        "colab_type": "code",
        "colab": {
          "base_uri": "https://localhost:8080/",
          "height": 248
        },
        "outputId": "21ae5ec0-80e3-483b-e99c-2f0c07e16207"
      },
      "source": [
        "# Gráfico circular, donde los sectores se ordenarán y trazarán en sentido antihorario::\n",
        "labels = ['Ranas', 'Cerdos', 'Perros', 'Gatos']\n",
        "sizes = [15, 30, 45, 10]\n",
        "explode = (0, 0, 0.1, 0)  \n",
        "\n",
        "plt.pie(sizes, labels = labels, explode=explode, autopct='%1.1f%%', shadow=True)\n",
        "plt.show()"
      ],
      "execution_count": 75,
      "outputs": [
        {
          "output_type": "display_data",
          "data": {
            "image/png": "[encoded data removed]",
            "text/plain": [
              "<Figure size 432x288 with 1 Axes>"
            ]
          },
          "metadata": {
            "tags": []
          }
        }
      ]
    },
    {
      "cell_type": "markdown",
      "metadata": {
        "id": "xyjhalIoNJV1",
        "colab_type": "text"
      },
      "source": [
        " <img src=\"https://drive.google.com/uc?export=view&id=1ThthmKwpXzukDfuyNvUc9ytWv5wW56tI\" alt=\"Simply Easy Learning\" width=\"800\" \n",
        "         height=\"455\">"
      ]
    },
    {
      "cell_type": "code",
      "metadata": {
        "id": "0uTRFMzRrAEs",
        "colab_type": "code",
        "colab": {
          "base_uri": "https://localhost:8080/",
          "height": 319
        },
        "outputId": "2f07ba03-389e-4ed4-888c-197b4e5f8f50"
      },
      "source": [
        "x = np.arange(1, 11)\n",
        "y = np.random.randint(10, size=10)\n",
        "plt.stem(x, y)\n",
        "plt.show()"
      ],
      "execution_count": 76,
      "outputs": [
        {
          "output_type": "stream",
          "text": [
            "/usr/local/lib/python3.6/dist-packages/ipykernel_launcher.py:3: UserWarning: In Matplotlib 3.3 individual lines on a stem plot will be added as a LineCollection instead of individual lines. This significantly improves the performance of a stem plot. To remove this warning and switch to the new behaviour, set the \"use_line_collection\" keyword argument to True.\n",
            "  This is separate from the ipykernel package so we can avoid doing imports until\n"
          ],
          "name": "stderr"
        },
        {
          "output_type": "display_data",
          "data": {
            "image/png": "[encoded data removed]",
            "text/plain": [
              "<Figure size 432x288 with 1 Axes>"
            ]
          },
          "metadata": {
            "tags": [],
            "needs_background": "light"
          }
        }
      ]
    },
    {
      "cell_type": "code",
      "metadata": {
        "id": "FYTMgCrbr63g",
        "colab_type": "code",
        "colab": {
          "base_uri": "https://localhost:8080/",
          "height": 316
        },
        "outputId": "9c0c1a0f-b139-4b3c-fed7-c7b58f43f3c5"
      },
      "source": [
        "y = np.random.randint(10, size=100)\n",
        "print(y)\n",
        "plt.grid(True)\n",
        "plt.hist(y, edgecolor = \"black\", bins = 5)\n",
        "plt.show()"
      ],
      "execution_count": 77,
      "outputs": [
        {
          "output_type": "stream",
          "text": [
            "[8 6 4 3 0 4 6 8 1 8 4 1 3 6 5 3 9 6 9 1 9 4 2 6 7 8 8 9 2 0 6 7 8 1 7 1 4\n",
            " 0 8 5 4 7 8 8 2 6 2 8 8 6 6 5 6 0 0 6 9 1 8 9 1 2 8 9 9 5 0 2 7 3 0 4 2 0\n",
            " 3 3 1 2 5 9 0 1 0 1 9 0 9 2 1 1 0 0 5 9 0 4 6 6 0 2]\n"
          ],
          "name": "stdout"
        },
        {
          "output_type": "display_data",
          "data": {
            "image/png": "[encoded data removed]",
            "text/plain": [
              "<Figure size 432x288 with 1 Axes>"
            ]
          },
          "metadata": {
            "tags": [],
            "needs_background": "light"
          }
        }
      ]
    },
    {
      "cell_type": "markdown",
      "metadata": {
        "id": "nDHMwdbbNQln",
        "colab_type": "text"
      },
      "source": [
        " <img src=\"https://drive.google.com/uc?export=view&id=1T7ByOcoxCGXoyKtJk1_8AS8GSr5sjt1e\" alt=\"Simply Easy Learning\" width=\"800\" \n",
        "         height=\"455\">\n"
      ]
    },
    {
      "cell_type": "code",
      "metadata": {
        "id": "stjEpec-tn3O",
        "colab_type": "code",
        "colab": {
          "base_uri": "https://localhost:8080/",
          "height": 265
        },
        "outputId": "7ce71a3f-e652-40c7-f4c6-f30a43756b56"
      },
      "source": [
        "x = np.array(range(10)) # variable independiente\n",
        "y = x*2 + 2# variable dependiente\n",
        "plt.scatter(x,y)\n",
        "plt.show()\n",
        "\n",
        "# contrastando entre columnas"
      ],
      "execution_count": 78,
      "outputs": [
        {
          "output_type": "display_data",
          "data": {
            "image/png": "[encoded data removed]",
            "text/plain": [
              "<Figure size 432x288 with 1 Axes>"
            ]
          },
          "metadata": {
            "tags": [],
            "needs_background": "light"
          }
        }
      ]
    },
    {
      "cell_type": "markdown",
      "metadata": {
        "id": "-u7RwbIZNc5M",
        "colab_type": "text"
      },
      "source": [
        " <img src=\"https://drive.google.com/uc?export=view&id=1VW8g8C5d18TCi0WWj_sGpKVw9rBSbxlB\" alt=\"Simply Easy Learning\" width=\"800\" \n",
        "         height=\"455\">\n"
      ]
    },
    {
      "cell_type": "markdown",
      "metadata": {
        "id": "P6k135MPNm8S",
        "colab_type": "text"
      },
      "source": [
        " <img src=\"https://drive.google.com/uc?export=view&id=1d5sSCaDEHHRVp6fdsmVmwjtnXVTaRrgD\" alt=\"Simply Easy Learning\" width=\"800\" \n",
        "         height=\"455\">\n"
      ]
    },
    {
      "cell_type": "markdown",
      "metadata": {
        "id": "JYDPACTANu55",
        "colab_type": "text"
      },
      "source": [
        " <img src=\"https://drive.google.com/uc?export=view&id=10RBlKl6Q_HwSuajRoCTOfxjwCt7L0gl2\" alt=\"Simply Easy Learning\" width=\"800\" \n",
        "         height=\"455\">\n"
      ]
    },
    {
      "cell_type": "code",
      "metadata": {
        "id": "AqsBKnwTNcVZ",
        "colab_type": "code",
        "colab": {}
      },
      "source": [
        "# Generar un X aleatorio de tamaño 20\n",
        "   # - Crear un Y1 en funcion de X  (Y = X**2)\n",
        "   # - Crear un Y2 aleatorio\n",
        "# Gráfica de dispersión\n",
        "# covarianza\n",
        "# coef corre. Pearson\n",
        "# Interpreten"
      ],
      "execution_count": 79,
      "outputs": []
    }
  ]
}