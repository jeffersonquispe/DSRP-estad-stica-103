{
  "nbformat": 4,
  "nbformat_minor": 0,
  "metadata": {
    "colab": {
      "name": "Classe01_modulo1.ipynb",
      "provenance": [],
      "collapsed_sections": [],
      "include_colab_link": true
    },
    "kernelspec": {
      "name": "python3",
      "display_name": "Python 3"
    }
  },
  "cells": [
    {
      "cell_type": "markdown",
      "metadata": {
        "id": "view-in-github",
        "colab_type": "text"
      },
      "source": [
        "<a href=\"https://colab.research.google.com/github/jeffersonquispe/DSRP-estadistica-102/blob/master/Classe01_modulo1.ipynb\" target=\"_parent\"><img src=\"https://colab.research.google.com/assets/colab-badge.svg\" alt=\"Open In Colab\"/></a>"
      ]
    },
    {
      "cell_type": "markdown",
      "metadata": {
        "id": "tuGAsfMfVQKd",
        "colab_type": "text"
      },
      "source": [
        " ![texto alternativo](https://drive.google.com/uc?export=view&id=14HGkNoRD0Cp4Z0KyPxvrLaj_u3eG97hC)"
      ]
    },
    {
      "cell_type": "markdown",
      "metadata": {
        "id": "acTm6PlXVSqM",
        "colab_type": "text"
      },
      "source": [
        " <img src=\"https://drive.google.com/uc?export=view&id=1OMid-aFCVv1iBkhhOWc78oS_GvQAmNQF\" alt=\"Simply Easy Learning\" width=\"800\" \n",
        "         height=\"450\">\n",
        "\n",
        "\n",
        "      "
      ]
    },
    {
      "cell_type": "markdown",
      "metadata": {
        "id": "eIP7_1qGgiY5",
        "colab_type": "text"
      },
      "source": [
        " <img src=\"https://drive.google.com/uc?export=view&id=1axrW6iqfxptvulgqNe46uLPHEAW3t87f\" alt=\"Simply Easy Learning\" width=\"800\" \n",
        "         height=\"450\">"
      ]
    },
    {
      "cell_type": "markdown",
      "metadata": {
        "id": "hnDB1rSJh_Hu",
        "colab_type": "text"
      },
      "source": [
        " <img src=\"https://drive.google.com/uc?export=view&id=1wEA7KLp9yveWWwDiOqG9OtXHujrtT0sA\" alt=\"Simply Easy Learning\" width=\"800\" \n",
        "         height=\"450\">"
      ]
    },
    {
      "cell_type": "markdown",
      "metadata": {
        "id": "fvioWEfZiMwx",
        "colab_type": "text"
      },
      "source": [
        " <img src=\"https://drive.google.com/uc?export=view&id=1-_c7HnZx8tmhIyf-2QoT81dH1HgZS1bA\" alt=\"Simply Easy Learning\" width=\"800\" \n",
        "         height=\"450\">"
      ]
    },
    {
      "cell_type": "markdown",
      "metadata": {
        "id": "9XwSwfDTiuLs",
        "colab_type": "text"
      },
      "source": [
        " <img src=\"https://drive.google.com/uc?export=view&id=1zxlKbtAHCj1P9TsiRwCjETaKbcJwoAjB\" alt=\"Simply Easy Learning\" width=\"800\" \n",
        "         height=\"450\">"
      ]
    },
    {
      "cell_type": "markdown",
      "metadata": {
        "id": "znJiTnD-z-9f",
        "colab_type": "text"
      },
      "source": [
        " <img src=\"https://drive.google.com/uc?export=view&id=1OmpoEyGZXZPDJ8IQ1KhnYjYxuBhqb1ps\" alt=\"Simply Easy Learning\" width=\"800\" \n",
        "         height=\"450\">"
      ]
    },
    {
      "cell_type": "markdown",
      "metadata": {
        "id": "dOPg9IBdjtEW",
        "colab_type": "text"
      },
      "source": [
        " <img src=\"https://drive.google.com/uc?export=view&id=16ew2V8oU74Auv7e8hVIzLXXqBod8GF6s\" alt=\"Simply Easy Learning\" width=\"800\" \n",
        "         height=\"450\">"
      ]
    },
    {
      "cell_type": "markdown",
      "metadata": {
        "id": "TzR27Kf1kEm0",
        "colab_type": "text"
      },
      "source": [
        " <img src=\"https://drive.google.com/uc?export=view&id=1z1tyZWELte8Ax476OmS6rz8vfbWPs2rl\" alt=\"Simply Easy Learning\" width=\"800\" \n",
        "         height=\"455\">"
      ]
    },
    {
      "cell_type": "markdown",
      "metadata": {
        "id": "PKoN1bc06L4i",
        "colab_type": "text"
      },
      "source": [
        " <img src=\"https://drive.google.com/uc?export=view&id=10m5chnld1ZD1a8mBv91bzeBWB5MPlMFj\" alt=\"Simply Easy Learning\" width=\"800\" \n",
        "         height=\"455\">"
      ]
    },
    {
      "cell_type": "markdown",
      "metadata": {
        "id": "NvAN6QoikvXr",
        "colab_type": "text"
      },
      "source": [
        " <img src=\"https://drive.google.com/uc?export=view&id=14-zlPLctzwR8DeErl80NaESxQ8MXb8Ws\" alt=\"Simply Easy Learning\" width=\"800\" \n",
        "         height=\"455\">"
      ]
    },
    {
      "cell_type": "markdown",
      "metadata": {
        "id": "7NQCCRUK-Xfo",
        "colab_type": "text"
      },
      "source": [
        "* **Ejercicio 1**\n",
        "Dados los siguientes casos:\n",
        "  1. Estudiar la realidad socioeconómica de las familias de un lugar determinado\n",
        "  2. Investigar sobre la capacidad de comprensión de lectura de los estudiantes del grupo 102.\n",
        "  3. Los efectos de un nuevo medicamento en el ser humano.\n",
        "\n",
        "* Señale en qué casos es más conveniente estudiar la población o una muestra.\n",
        "\n",
        "* Señale en que casos utilizaremos la estadística descriptiva y en que casos utilizaremos la inferencia estadística.\n"
      ]
    },
    {
      "cell_type": "markdown",
      "metadata": {
        "id": "KRGHnnThlJEt",
        "colab_type": "text"
      },
      "source": [
        " <img src=\"https://drive.google.com/uc?export=view&id=1uYs4tIg73Lpf2yGT7HjGltAL32F6XVHK\" alt=\"Simply Easy Learning\" width=\"800\" \n",
        "         height=\"455\">"
      ]
    },
    {
      "cell_type": "markdown",
      "metadata": {
        "id": "o3hcP4K1k8gK",
        "colab_type": "text"
      },
      "source": [
        " <img src=\"https://drive.google.com/uc?export=view&id=1nJrzGcWncNM9jP1aJgzLIB7KIncyDjUV\" alt=\"Simply Easy Learning\" width=\"800\" \n",
        "         height=\"455\">"
      ]
    },
    {
      "cell_type": "markdown",
      "metadata": {
        "id": "R_7DrsPn7WNZ",
        "colab_type": "text"
      },
      "source": [
        "* **Ejemplo 2**\n",
        "Indicar el tipo de cada una de las siguientes variables\n",
        "1. Religión\n",
        "2. Número de hermanos\n",
        "3. Peso\n",
        "4. Nivel de instrucción\n",
        "5. Estad civil\n",
        "6. Edad"
      ]
    },
    {
      "cell_type": "markdown",
      "metadata": {
        "id": "9ItBmM8al8QY",
        "colab_type": "text"
      },
      "source": [
        " <img src=\"https://drive.google.com/uc?export=view&id=1z5EmSwc5WUm-cBpWrBab_YE7E6nwIGzW\" alt=\"Simply Easy Learning\" width=\"800\" \n",
        "         height=\"455\">"
      ]
    },
    {
      "cell_type": "markdown",
      "metadata": {
        "id": "VUs42Qd1nR6z",
        "colab_type": "text"
      },
      "source": [
        " <img src=\"https://drive.google.com/uc?export=view&id=13an79aLaRFMahp2HHdhRRyHM5RwWEOqu\" alt=\"Simply Easy Learning\" width=\"800\" \n",
        "         height=\"455\">"
      ]
    },
    {
      "cell_type": "markdown",
      "metadata": {
        "id": "kV-R_NdpoJaD",
        "colab_type": "text"
      },
      "source": [
        " <img src=\"https://drive.google.com/uc?export=view&id=1UMgszy1M4wnmVQ_iLiQco2OS6gnTAN3v\" alt=\"Simply Easy Learning\" width=\"800\" \n",
        "         height=\"455\">"
      ]
    },
    {
      "cell_type": "markdown",
      "metadata": {
        "id": "wdHPZWjEoh9i",
        "colab_type": "text"
      },
      "source": [
        " <img src=\"https://drive.google.com/uc?export=view&id=15Fpy5wfS5rom2WctvTKFtsL5yUWeLqGD\" alt=\"Simply Easy Learning\" width=\"800\" \n",
        "         height=\"455\">"
      ]
    },
    {
      "cell_type": "markdown",
      "metadata": {
        "id": "S7BDfq9ppH70",
        "colab_type": "text"
      },
      "source": [
        " <img src=\"https://drive.google.com/uc?export=view&id=1UE5-jOkXI3I2zsUh3YQC831tY3DXfGoo\" alt=\"Simply Easy Learning\" width=\"800\" \n",
        "         height=\"455\">"
      ]
    },
    {
      "cell_type": "markdown",
      "metadata": {
        "id": "LCnPGcqop3FL",
        "colab_type": "text"
      },
      "source": [
        " <img src=\"https://drive.google.com/uc?export=view&id=1qh957VN_WHSP1g7ETyTNsevCFNgBnXOX\" alt=\"Simply Easy Learning\" width=\"800\" \n",
        "         height=\"455\">"
      ]
    },
    {
      "cell_type": "code",
      "metadata": {
        "id": "SFqMdKTbARIw",
        "colab_type": "code",
        "colab": {}
      },
      "source": [
        "import pandas as pd\n",
        "data = pd.DataFrame()"
      ],
      "execution_count": 1,
      "outputs": []
    },
    {
      "cell_type": "markdown",
      "metadata": {
        "id": "03b1A9WeqrKE",
        "colab_type": "text"
      },
      "source": [
        " <img src=\"https://drive.google.com/uc?export=view&id=1vrWf5iMHo3kPT6m42OWvUI2sAKSr-9Fo\" alt=\"Simply Easy Learning\" width=\"800\" \n",
        "         height=\"455\">"
      ]
    }
  ]
}