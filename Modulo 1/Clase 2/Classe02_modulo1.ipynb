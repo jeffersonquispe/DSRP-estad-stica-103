{
  "nbformat": 4,
  "nbformat_minor": 0,
  "metadata": {
    "colab": {
      "name": "Classe02_modulo1.ipynb",
      "provenance": [],
      "collapsed_sections": [],
      "include_colab_link": true
    },
    "kernelspec": {
      "name": "python3",
      "display_name": "Python 3"
    }
  },
  "cells": [
    {
      "cell_type": "markdown",
      "metadata": {
        "id": "view-in-github",
        "colab_type": "text"
      },
      "source": [
        "<a href=\"https://colab.research.google.com/github/jeffersonquispe/DSRP-estadistica-102/blob/master/Classe02_modulo1.ipynb\" target=\"_parent\"><img src=\"https://colab.research.google.com/assets/colab-badge.svg\" alt=\"Open In Colab\"/></a>"
      ]
    },
    {
      "cell_type": "markdown",
      "metadata": {
        "id": "tuGAsfMfVQKd",
        "colab_type": "text"
      },
      "source": [
        " ![texto alternativo](https://drive.google.com/uc?export=view&id=14HGkNoRD0Cp4Z0KyPxvrLaj_u3eG97hC)"
      ]
    },
    {
      "cell_type": "markdown",
      "metadata": {
        "id": "acTm6PlXVSqM",
        "colab_type": "text"
      },
      "source": [
        " <img src=\"https://drive.google.com/uc?export=view&id=1Y-H2d0EzmNp2iwCH17LHxvo7Tax3C65R\" alt=\"Simply Easy Learning\" width=\"800\" \n",
        "         height=\"450\">\n",
        "\n",
        "\n",
        "      "
      ]
    },
    {
      "cell_type": "markdown",
      "metadata": {
        "id": "jnScIJom7-7v",
        "colab_type": "text"
      },
      "source": [
        " <img src=\"https://drive.google.com/uc?export=view&id=1OmpoEyGZXZPDJ8IQ1KhnYjYxuBhqb1ps\" alt=\"Simply Easy Learning\" width=\"800\" \n",
        "         height=\"450\">"
      ]
    },
    {
      "cell_type": "markdown",
      "metadata": {
        "id": "rGWv7r287p3K",
        "colab_type": "text"
      },
      "source": [
        " <img src=\"https://drive.google.com/uc?export=view&id=10m5chnld1ZD1a8mBv91bzeBWB5MPlMFj\" alt=\"Simply Easy Learning\" width=\"800\" \n",
        "         height=\"455\">"
      ]
    },
    {
      "cell_type": "markdown",
      "metadata": {
        "id": "0gfLpyDY7xWh",
        "colab_type": "text"
      },
      "source": [
        " <img src=\"https://drive.google.com/uc?export=view&id=1nJrzGcWncNM9jP1aJgzLIB7KIncyDjUV\" alt=\"Simply Easy Learning\" width=\"800\" \n",
        "         height=\"455\">"
      ]
    },
    {
      "cell_type": "markdown",
      "metadata": {
        "id": "XL8ajjGo78yr",
        "colab_type": "text"
      },
      "source": [
        " <img src=\"https://drive.google.com/uc?export=view&id=13an79aLaRFMahp2HHdhRRyHM5RwWEOqu\" alt=\"Simply Easy Learning\" width=\"800\" \n",
        "         height=\"455\">"
      ]
    },
    {
      "cell_type": "markdown",
      "metadata": {
        "id": "GHpn1x4D7kFh",
        "colab_type": "text"
      },
      "source": [
        " <img src=\"https://drive.google.com/uc?export=view&id=1vrWf5iMHo3kPT6m42OWvUI2sAKSr-9Fo\" alt=\"Simply Easy Learning\" width=\"800\" \n",
        "         height=\"455\">"
      ]
    },
    {
      "cell_type": "code",
      "metadata": {
        "id": "oB6LFYwMfVBv",
        "colab_type": "code",
        "colab": {}
      },
      "source": [
        "import numpy as np\n",
        "import pandas as pd\n",
        "age = [45,50,19,60,15,20,33,12,20,80]\n",
        "valores = pd.Series([45,50,19,60,15,20,33,12,20,80])"
      ],
      "execution_count": 81,
      "outputs": []
    },
    {
      "cell_type": "code",
      "metadata": {
        "id": "vcxKfDkchkQR",
        "colab_type": "code",
        "colab": {}
      },
      "source": [
        "\n",
        "\n"
      ],
      "execution_count": 81,
      "outputs": []
    },
    {
      "cell_type": "markdown",
      "metadata": {
        "id": "e47944EJ9ZVT",
        "colab_type": "text"
      },
      "source": [
        " <img src=\"https://drive.google.com/uc?export=view&id=1OrOL958zEWqTaNt4hNcYuFbejbWv07p6\" alt=\"Simply Easy Learning\" width=\"800\" \n",
        "         height=\"455\">\n"
      ]
    },
    {
      "cell_type": "code",
      "metadata": {
        "id": "8bHwYlAz9uBS",
        "colab_type": "code",
        "colab": {
          "base_uri": "https://localhost:8080/",
          "height": 221
        },
        "outputId": "cc5fc730-0696-4e78-b6de-4b2013e44319"
      },
      "source": [
        "import pandas as pd\n",
        "cant_sacos = pd.Series([3780, 3690, 3700, 3770, 3730,3800, 3790, 3680, 3720, 3740, 3750], \n",
        "                          index = [\"Enero\", \"Febrero\", \"Marzo\", \"Abril\", \"Mayo\", \"Junio\", \"Julio\", \"Agosto\", \"Setiembre\", \"Octubre\", \"Noviembre\"])\n",
        "cant_sacos\n"
      ],
      "execution_count": 82,
      "outputs": [
        {
          "output_type": "execute_result",
          "data": {
            "text/plain": [
              "Enero        3780\n",
              "Febrero      3690\n",
              "Marzo        3700\n",
              "Abril        3770\n",
              "Mayo         3730\n",
              "Junio        3800\n",
              "Julio        3790\n",
              "Agosto       3680\n",
              "Setiembre    3720\n",
              "Octubre      3740\n",
              "Noviembre    3750\n",
              "dtype: int64"
            ]
          },
          "metadata": {
            "tags": []
          },
          "execution_count": 82
        }
      ]
    },
    {
      "cell_type": "code",
      "metadata": {
        "id": "aKL7YRfLGeeR",
        "colab_type": "code",
        "colab": {
          "base_uri": "https://localhost:8080/",
          "height": 170
        },
        "outputId": "9bb81df5-e103-485b-8a85-98e73095e0a3"
      },
      "source": [
        "cant_sacos.describe()\n",
        "#cant_sacos.plot.bar()"
      ],
      "execution_count": 83,
      "outputs": [
        {
          "output_type": "execute_result",
          "data": {
            "text/plain": [
              "count      11.000000\n",
              "mean     3740.909091\n",
              "std        41.098551\n",
              "min      3680.000000\n",
              "25%      3710.000000\n",
              "50%      3740.000000\n",
              "75%      3775.000000\n",
              "max      3800.000000\n",
              "dtype: float64"
            ]
          },
          "metadata": {
            "tags": []
          },
          "execution_count": 83
        }
      ]
    },
    {
      "cell_type": "markdown",
      "metadata": {
        "id": "oLWrf3RYQGus",
        "colab_type": "text"
      },
      "source": [
        "**Media aritmetica ponderada**\n",
        "\n",
        "Es apropiada cuando en un conjunto de datos cada uno de ellos tiene una importancia relativa (o peso) respecto de los demás datos.\n",
        "\n",
        "$\\mu=\\frac{\\sum_i^n{x_iw_i}}{\\sum_i^n{w_i}}$\n",
        "\n",
        "Si los pesos son iguales, esto es $w_{i}=w$ para  $1\\leq i\\leq n$, entonces la media ponderada coincide con la **media aritmética**."
      ]
    },
    {
      "cell_type": "code",
      "metadata": {
        "id": "37HwDb8wlh3c",
        "colab_type": "code",
        "colab": {
          "base_uri": "https://localhost:8080/",
          "height": 34
        },
        "outputId": "47ad9f25-8d7b-4612-9994-cec62dbb2383"
      },
      "source": [
        "# Problema de la mochila\n",
        "cuaderno = 5\n",
        "libro = 10\n",
        "cartuchera = 8\n",
        "folder = 2\n",
        "\n",
        "# OBSERVACION\n",
        "# A la capacidad -> peso (kg)\n",
        "\n",
        "objetos = [2,6,4,3]\n",
        "pesos = [5,10,8,2]\n",
        "\n",
        "media_ponderada = np.average(objetos, weights=pesos)\n",
        "media_ponderada\n"
      ],
      "execution_count": 84,
      "outputs": [
        {
          "output_type": "execute_result",
          "data": {
            "text/plain": [
              "4.32"
            ]
          },
          "metadata": {
            "tags": []
          },
          "execution_count": 84
        }
      ]
    },
    {
      "cell_type": "markdown",
      "metadata": {
        "id": "rlY4wx0XnTYm",
        "colab_type": "text"
      },
      "source": [
        "Una aldea sufre un proceso rápido de envejecimiento. El primer año aumentan los mayores de 65 años un 10%, el segundo año, un 20%, el tercer año un 30% y el cuarto año, un 40%.\n",
        "\n",
        "Si la población de inicial es de 100 mayores de 65 años, ¿cuál será un mejor indicador para caracterizar ese envejecimiento: la media aritmética o la media geométrica?"
      ]
    },
    {
      "cell_type": "code",
      "metadata": {
        "id": "-4ljnIjsniTl",
        "colab_type": "code",
        "colab": {
          "base_uri": "https://localhost:8080/",
          "height": 34
        },
        "outputId": "1c460afb-143a-440d-c51b-b46903648bde"
      },
      "source": [
        "#100*1.10*1.20*1.30*1.40\n",
        "import math\n",
        "res = (1.1*1.2*1.3*1.4)**(1/4)\n",
        "res\n"
      ],
      "execution_count": 85,
      "outputs": [
        {
          "output_type": "execute_result",
          "data": {
            "text/plain": [
              "1.2449770044461885"
            ]
          },
          "metadata": {
            "tags": []
          },
          "execution_count": 85
        }
      ]
    },
    {
      "cell_type": "markdown",
      "metadata": {
        "id": "duoo-8Y5IyWP",
        "colab_type": "text"
      },
      "source": [
        " <img src=\"https://drive.google.com/uc?export=view&id=1jzGtPJyBjfEibHQq-HcFsubqlVJavjkV\" alt=\"Simply Easy Learning\" width=\"800\" \n",
        "         height=\"455\">\n"
      ]
    },
    {
      "cell_type": "code",
      "metadata": {
        "id": "lqfc8SBvqtyA",
        "colab_type": "code",
        "colab": {
          "base_uri": "https://localhost:8080/",
          "height": 68
        },
        "outputId": "8c95949a-4d84-4401-edfd-fa50c349014c"
      },
      "source": [
        "# -----Q1-----Q2-----Q3-----\n",
        "# ordenados!!!\n",
        "# Q1 = cae en el 25%\n",
        "# Q2 = cae en el 50% -> mediana\n",
        "# Q3 = cae en el 75%\n",
        "import numpy as np\n",
        "lista_np = np.array([0,1,2,3,4,5,6,7,8,9])\n",
        "Q1 = np.percentile(lista_np,25)\n",
        "print(Q1)\n",
        "Q2 = np.percentile(lista_np,50)\n",
        "print(Q2)\n",
        "Q3 = np.percentile(lista_np,75)\n",
        "print(Q3)"
      ],
      "execution_count": 86,
      "outputs": [
        {
          "output_type": "stream",
          "text": [
            "2.25\n",
            "4.5\n",
            "6.75\n"
          ],
          "name": "stdout"
        }
      ]
    },
    {
      "cell_type": "markdown",
      "metadata": {
        "id": "eq5LqrzYLPXb",
        "colab_type": "text"
      },
      "source": [
        " <img src=\"https://drive.google.com/uc?export=view&id=12mkyIKWLebwl97KWMHFYU602oqthwGJ5\" alt=\"Simply Easy Learning\" width=\"800\" \n",
        "         height=\"455\">"
      ]
    },
    {
      "cell_type": "code",
      "metadata": {
        "id": "SRdEGh7htUy2",
        "colab_type": "code",
        "colab": {
          "base_uri": "https://localhost:8080/",
          "height": 34
        },
        "outputId": "e048426c-db91-4d2f-b732-93a6d0c5475c"
      },
      "source": [
        "#---D1---D2--D3---D4---D5---D6.....D9\n",
        "#--P1--P2--..........P99\n",
        "#lista_np = np.array([0,1,2,3,4,5,6,7,8,9])\n",
        "lista_np = np.random.randint(1,500,50)\n",
        "#print(lista_np)\n",
        "D1 = np.percentile(lista_np,10)\n",
        "D9 = np.percentile(lista_np,90)\n",
        "p8 = np.percentile(lista_np,8)\n",
        "print(p8)"
      ],
      "execution_count": 87,
      "outputs": [
        {
          "output_type": "stream",
          "text": [
            "33.84\n"
          ],
          "name": "stdout"
        }
      ]
    },
    {
      "cell_type": "markdown",
      "metadata": {
        "id": "UZMdqddxLiOP",
        "colab_type": "text"
      },
      "source": [
        " <img src=\"https://drive.google.com/uc?export=view&id=1-EGcc-6569xF2E8kmWjdVDRFJCiySFKv\" alt=\"Simply Easy Learning\" width=\"800\" \n",
        "         height=\"455\">"
      ]
    },
    {
      "cell_type": "code",
      "metadata": {
        "id": "9a0FVQnDxW6J",
        "colab_type": "code",
        "colab": {}
      },
      "source": [
        "# -----Q1-----Q2-----Q3-----\n"
      ],
      "execution_count": 88,
      "outputs": []
    },
    {
      "cell_type": "code",
      "metadata": {
        "id": "gSsbuvYxwcoZ",
        "colab_type": "code",
        "colab": {
          "base_uri": "https://localhost:8080/",
          "height": 34
        },
        "outputId": "64ee5aee-65c4-4669-d2bb-dacd749d0e31"
      },
      "source": [
        "my_lista = np.array([4, 6, 8 ,9 ,25, 80, 90])\n",
        "R = my_lista.max() - my_lista.min()\n",
        "R\n"
      ],
      "execution_count": 89,
      "outputs": [
        {
          "output_type": "execute_result",
          "data": {
            "text/plain": [
              "86"
            ]
          },
          "metadata": {
            "tags": []
          },
          "execution_count": 89
        }
      ]
    },
    {
      "cell_type": "code",
      "metadata": {
        "id": "ZKj2mfueYd-T",
        "colab_type": "code",
        "colab": {
          "base_uri": "https://localhost:8080/",
          "height": 204
        },
        "outputId": "9d020088-3116-4d49-9d49-9e6c0da83470"
      },
      "source": [
        "import pandas as pd\n",
        "iris = pd.read_csv(\"https://raw.githubusercontent.com/toneloy/data/master/iris.csv\")\n",
        "iris.head()"
      ],
      "execution_count": 90,
      "outputs": [
        {
          "output_type": "execute_result",
          "data": {
            "text/html": [
              "<div>\n",
              "<style scoped>\n",
              "    .dataframe tbody tr th:only-of-type {\n",
              "        vertical-align: middle;\n",
              "    }\n",
              "\n",
              "    .dataframe tbody tr th {\n",
              "        vertical-align: top;\n",
              "    }\n",
              "\n",
              "    .dataframe thead th {\n",
              "        text-align: right;\n",
              "    }\n",
              "</style>\n",
              "<table border=\"1\" class=\"dataframe\">\n",
              "  <thead>\n",
              "    <tr style=\"text-align: right;\">\n",
              "      <th></th>\n",
              "      <th>sepal_length</th>\n",
              "      <th>sepal_width</th>\n",
              "      <th>petal_length</th>\n",
              "      <th>petal_width</th>\n",
              "      <th>species</th>\n",
              "    </tr>\n",
              "  </thead>\n",
              "  <tbody>\n",
              "    <tr>\n",
              "      <th>0</th>\n",
              "      <td>5.1</td>\n",
              "      <td>3.5</td>\n",
              "      <td>1.4</td>\n",
              "      <td>0.2</td>\n",
              "      <td>setosa</td>\n",
              "    </tr>\n",
              "    <tr>\n",
              "      <th>1</th>\n",
              "      <td>4.9</td>\n",
              "      <td>3.0</td>\n",
              "      <td>1.4</td>\n",
              "      <td>0.2</td>\n",
              "      <td>setosa</td>\n",
              "    </tr>\n",
              "    <tr>\n",
              "      <th>2</th>\n",
              "      <td>4.7</td>\n",
              "      <td>3.2</td>\n",
              "      <td>1.3</td>\n",
              "      <td>0.2</td>\n",
              "      <td>setosa</td>\n",
              "    </tr>\n",
              "    <tr>\n",
              "      <th>3</th>\n",
              "      <td>4.6</td>\n",
              "      <td>3.1</td>\n",
              "      <td>1.5</td>\n",
              "      <td>0.2</td>\n",
              "      <td>setosa</td>\n",
              "    </tr>\n",
              "    <tr>\n",
              "      <th>4</th>\n",
              "      <td>5.0</td>\n",
              "      <td>3.6</td>\n",
              "      <td>1.4</td>\n",
              "      <td>0.2</td>\n",
              "      <td>setosa</td>\n",
              "    </tr>\n",
              "  </tbody>\n",
              "</table>\n",
              "</div>"
            ],
            "text/plain": [
              "   sepal_length  sepal_width  petal_length  petal_width species\n",
              "0           5.1          3.5           1.4          0.2  setosa\n",
              "1           4.9          3.0           1.4          0.2  setosa\n",
              "2           4.7          3.2           1.3          0.2  setosa\n",
              "3           4.6          3.1           1.5          0.2  setosa\n",
              "4           5.0          3.6           1.4          0.2  setosa"
            ]
          },
          "metadata": {
            "tags": []
          },
          "execution_count": 90
        }
      ]
    },
    {
      "cell_type": "code",
      "metadata": {
        "id": "ktayVMegaAcG",
        "colab_type": "code",
        "colab": {
          "base_uri": "https://localhost:8080/",
          "height": 423
        },
        "outputId": "94e9ae92-4b2d-47e9-af82-45f2f3660750"
      },
      "source": [
        "from plotnine import *\n",
        "\n",
        "(ggplot(iris) +\n",
        "  geom_boxplot(aes(x=0, y=\"sepal_length\")) +\n",
        "  labs(x=\"\") +\n",
        "  theme(\n",
        "    axis_text_x=element_blank(),\n",
        "    axis_ticks_minor_x=element_blank(),\n",
        "    axis_ticks_major_x=element_blank()\n",
        "  ))"
      ],
      "execution_count": 91,
      "outputs": [
        {
          "output_type": "display_data",
          "data": {
            "image/png": "[encoded data removed]",
            "text/plain": [
              "<Figure size 640x480 with 1 Axes>"
            ]
          },
          "metadata": {
            "tags": []
          }
        },
        {
          "output_type": "execute_result",
          "data": {
            "text/plain": [
              "<ggplot: (-9223363300126559705)>"
            ]
          },
          "metadata": {
            "tags": []
          },
          "execution_count": 91
        }
      ]
    },
    {
      "cell_type": "code",
      "metadata": {
        "id": "Gj1XzVAAYf-a",
        "colab_type": "code",
        "colab": {
          "base_uri": "https://localhost:8080/",
          "height": 464
        },
        "outputId": "ab0553a1-df9b-405a-e360-0e15fb6771be"
      },
      "source": [
        "from plotnine import *\n",
        "(ggplot(iris) +\n",
        "  geom_boxplot(aes(x=\"species\", y=\"sepal_length\")))"
      ],
      "execution_count": 92,
      "outputs": [
        {
          "output_type": "display_data",
          "data": {
            "image/png": "[encoded data removed]",
            "text/plain": [
              "<Figure size 640x480 with 1 Axes>"
            ]
          },
          "metadata": {
            "tags": []
          }
        },
        {
          "output_type": "execute_result",
          "data": {
            "text/plain": [
              "<ggplot: (-9223363300126578316)>"
            ]
          },
          "metadata": {
            "tags": []
          },
          "execution_count": 92
        }
      ]
    },
    {
      "cell_type": "code",
      "metadata": {
        "id": "ZgJ8SYPQ2edU",
        "colab_type": "code",
        "colab": {}
      },
      "source": [
        ""
      ],
      "execution_count": 92,
      "outputs": []
    },
    {
      "cell_type": "markdown",
      "metadata": {
        "id": "MAPWDaYELpmf",
        "colab_type": "text"
      },
      "source": [
        " <img src=\"https://drive.google.com/uc?export=view&id=1C17Psu-vVE2Gv_z0vCeyE0vFK0dEComA\" alt=\"Simply Easy Learning\" width=\"800\" \n",
        "         height=\"455\">\n",
        "\n"
      ]
    },
    {
      "cell_type": "code",
      "metadata": {
        "id": "20Gb6ZldAmAq",
        "colab_type": "code",
        "colab": {
          "base_uri": "https://localhost:8080/",
          "height": 282
        },
        "outputId": "47e495ad-9f7e-4960-f93e-a7848683c04f"
      },
      "source": [
        "import numpy as np\n",
        "import matplotlib.pyplot as plt\n",
        "data = np.array([10,20,30,40,50, 100]) # experimentos 5 veces en mi modelo\n",
        "var=np.std(data)\n",
        "print(var)\n",
        "plt.boxplot(data)\n",
        "plt.show()"
      ],
      "execution_count": 93,
      "outputs": [
        {
          "output_type": "stream",
          "text": [
            "29.1070819942883\n"
          ],
          "name": "stdout"
        },
        {
          "output_type": "display_data",
          "data": {
            "image/png": "[encoded data removed]",
            "text/plain": [
              "<Figure size 432x288 with 1 Axes>"
            ]
          },
          "metadata": {
            "tags": [],
            "needs_background": "light"
          }
        }
      ]
    },
    {
      "cell_type": "markdown",
      "metadata": {
        "id": "gbf09zpwLyqv",
        "colab_type": "text"
      },
      "source": [
        " <img src=\"https://drive.google.com/uc?export=view&id=1OgkDO9_FO-mhG0AHMIJuznLIPYum4zFW\" alt=\"Simply Easy Learning\" width=\"800\" \n",
        "         height=\"455\">\n",
        "\n",
        "\n"
      ]
    },
    {
      "cell_type": "code",
      "metadata": {
        "id": "7tqsKslui5Wo",
        "colab_type": "code",
        "colab": {
          "base_uri": "https://localhost:8080/",
          "height": 68
        },
        "outputId": "137b7633-98fd-45b4-e00d-9b066af39bbc"
      },
      "source": [
        "# \n",
        "np.random.seed(10)\n",
        "x = np.random.randint(1, 50, 10)\n",
        "b = 2\n",
        "c = 4\n",
        "# Propiedad 1\n",
        "#y = x + b \n",
        "#sy2 = np.var(y)\n",
        "#sx2 = np.var(x)\n",
        "#print(f\"x={x}\")\n",
        "#print(f\"y={y}\")\n",
        "#print(f\"sy2={sy2:.2f} sx2 ={sx2:.2f}\")\n",
        "\n",
        "# Propiedad 2\n",
        "y = c*x + b\n",
        "sy2 = np.var(y)\n",
        "sx2 = np.var(x)\n",
        "print(f\"x={x}\")\n",
        "print(f\"y={y}\")\n",
        "print(f\"sy2={sy2} sx2 ={sx2}\")"
      ],
      "execution_count": 94,
      "outputs": [
        {
          "output_type": "stream",
          "text": [
            "x=[10 37 16  1 29 26 30 49 30  9]\n",
            "y=[ 42 150  66   6 118 106 122 198 122  38]\n",
            "sy2=3052.96 sx2 =190.81\n"
          ],
          "name": "stdout"
        }
      ]
    },
    {
      "cell_type": "markdown",
      "metadata": {
        "id": "MPfybtNLL9D3",
        "colab_type": "text"
      },
      "source": [
        " <img src=\"https://drive.google.com/uc?export=view&id=15aIqabLJ4ZqC_fkCADHUWqwt_131SAHf\" alt=\"Simply Easy Learning\" width=\"800\" \n",
        "         height=\"455\">"
      ]
    },
    {
      "cell_type": "code",
      "metadata": {
        "id": "X6puTGZiBf9N",
        "colab_type": "code",
        "colab": {
          "base_uri": "https://localhost:8080/",
          "height": 51
        },
        "outputId": "c4136081-f026-4f19-c38e-ff07bd818ac9"
      },
      "source": [
        "#----0--4000--0---  s = 300\n",
        "#0------600-------0 s = 300\n",
        "cv_tv = 300/4000*100\n",
        "print(cv_tv)\n",
        "cv_pl = 300/600*100\n",
        "print(cv_pl)\n"
      ],
      "execution_count": 95,
      "outputs": [
        {
          "output_type": "stream",
          "text": [
            "7.5\n",
            "50.0\n"
          ],
          "name": "stdout"
        }
      ]
    },
    {
      "cell_type": "markdown",
      "metadata": {
        "id": "PZ8wx3ccMIxP",
        "colab_type": "text"
      },
      "source": [
        " <img src=\"https://drive.google.com/uc?export=view&id=1YVvbySbliAI0XxYkwE4LEY80CLLSiiJy\" alt=\"Simply Easy Learning\" width=\"800\" \n",
        "         height=\"455\">"
      ]
    },
    {
      "cell_type": "markdown",
      "metadata": {
        "id": "IoMfQRDeQ74B",
        "colab_type": "text"
      },
      "source": [
        "La **curtosis** (también conocida como medida de apuntamiento) es una medida estadística, que determina el grado de concentración que presentan los valores de una variable alrededor de la zona central de la distribución de frecuencias.\n",
        "Tomando, pues, la distribución normal como referencia, una distribución puede ser:\n",
        "\n",
        "* **leptocúrtica**, cuando  β2>3  y  g2>0 : más apuntada y con colas más gruesas que la normal.\n",
        "* **platicúrtica**,  β2<3  y  g2<0 : menos apuntada y con colas menos gruesas que la normal.\n",
        "* **mesocúrtica**,  β2=3  y  g2=0 : cuando tiene una distribución normal."
      ]
    },
    {
      "cell_type": "code",
      "metadata": {
        "id": "hL_w2P2guYeA",
        "colab_type": "code",
        "colab": {}
      },
      "source": [
        ""
      ],
      "execution_count": 95,
      "outputs": []
    },
    {
      "cell_type": "code",
      "metadata": {
        "id": "IZi_nfAQj91t",
        "colab_type": "code",
        "colab": {
          "base_uri": "https://localhost:8080/",
          "height": 265
        },
        "outputId": "f2e8c724-3246-4c9b-da3e-b5ab41346eef"
      },
      "source": [
        "edades=np.array([20,30,25,40,30,25,40,30,25,40,30,25,40,30,25,40,30,25,40,30,25,40,30,25,40,140,85,92,76,48,100])\n",
        "plt.boxplot(edades)\n",
        "plt.show()"
      ],
      "execution_count": 96,
      "outputs": [
        {
          "output_type": "display_data",
          "data": {
            "image/png": "[encoded data removed]",
            "text/plain": [
              "<Figure size 432x288 with 1 Axes>"
            ]
          },
          "metadata": {
            "tags": [],
            "needs_background": "light"
          }
        }
      ]
    },
    {
      "cell_type": "code",
      "metadata": {
        "id": "7-txrMaWixgU",
        "colab_type": "code",
        "colab": {}
      },
      "source": [
        ""
      ],
      "execution_count": 96,
      "outputs": []
    },
    {
      "cell_type": "markdown",
      "metadata": {
        "id": "_1egqMYzMUux",
        "colab_type": "text"
      },
      "source": [
        " <img src=\"https://drive.google.com/uc?export=view&id=1xuObXZOg5NtbFUrYxwV04FxZ-2eD6VA0\" alt=\"Simply Easy Learning\" width=\"800\" \n",
        "         height=\"455\">"
      ]
    },
    {
      "cell_type": "markdown",
      "metadata": {
        "id": "NHFQe5sOMc1Q",
        "colab_type": "text"
      },
      "source": [
        " <img src=\"https://drive.google.com/uc?export=view&id=1pUkoqK-ssn17FnMZUHvO9Nhprrl7NimX\" alt=\"Simply Easy Learning\" width=\"800\" \n",
        "         height=\"455\">\n"
      ]
    },
    {
      "cell_type": "markdown",
      "metadata": {
        "id": "eIsuK6FzM2iS",
        "colab_type": "text"
      },
      "source": [
        " <img src=\"https://drive.google.com/uc?export=view&id=1ZEABHPWRmVTKypH2R5qJzZFd6Dl2CU70\" alt=\"Simply Easy Learning\" width=\"800\" \n",
        "         height=\"455\">"
      ]
    },
    {
      "cell_type": "markdown",
      "metadata": {
        "id": "cwh3herbM-4L",
        "colab_type": "text"
      },
      "source": [
        " <img src=\"https://drive.google.com/uc?export=view&id=1WskoJ_SY07P1s0uPuX9Y30WSvZyCAJV8\" alt=\"Simply Easy Learning\" width=\"800\" \n",
        "         height=\"455\">\n"
      ]
    },
    {
      "cell_type": "markdown",
      "metadata": {
        "id": "xyjhalIoNJV1",
        "colab_type": "text"
      },
      "source": [
        " <img src=\"https://drive.google.com/uc?export=view&id=1ThthmKwpXzukDfuyNvUc9ytWv5wW56tI\" alt=\"Simply Easy Learning\" width=\"800\" \n",
        "         height=\"455\">"
      ]
    },
    {
      "cell_type": "markdown",
      "metadata": {
        "id": "nDHMwdbbNQln",
        "colab_type": "text"
      },
      "source": [
        " <img src=\"https://drive.google.com/uc?export=view&id=1T7ByOcoxCGXoyKtJk1_8AS8GSr5sjt1e\" alt=\"Simply Easy Learning\" width=\"800\" \n",
        "         height=\"455\">\n"
      ]
    },
    {
      "cell_type": "markdown",
      "metadata": {
        "id": "-u7RwbIZNc5M",
        "colab_type": "text"
      },
      "source": [
        " <img src=\"https://drive.google.com/uc?export=view&id=1VW8g8C5d18TCi0WWj_sGpKVw9rBSbxlB\" alt=\"Simply Easy Learning\" width=\"800\" \n",
        "         height=\"455\">\n"
      ]
    },
    {
      "cell_type": "markdown",
      "metadata": {
        "id": "P6k135MPNm8S",
        "colab_type": "text"
      },
      "source": [
        " <img src=\"https://drive.google.com/uc?export=view&id=1d5sSCaDEHHRVp6fdsmVmwjtnXVTaRrgD\" alt=\"Simply Easy Learning\" width=\"800\" \n",
        "         height=\"455\">\n"
      ]
    },
    {
      "cell_type": "markdown",
      "metadata": {
        "id": "JYDPACTANu55",
        "colab_type": "text"
      },
      "source": [
        " <img src=\"https://drive.google.com/uc?export=view&id=10RBlKl6Q_HwSuajRoCTOfxjwCt7L0gl2\" alt=\"Simply Easy Learning\" width=\"800\" \n",
        "         height=\"455\">\n"
      ]
    },
    {
      "cell_type": "code",
      "metadata": {
        "id": "AqsBKnwTNcVZ",
        "colab_type": "code",
        "colab": {}
      },
      "source": [
        ""
      ],
      "execution_count": 96,
      "outputs": []
    }
  ]
}