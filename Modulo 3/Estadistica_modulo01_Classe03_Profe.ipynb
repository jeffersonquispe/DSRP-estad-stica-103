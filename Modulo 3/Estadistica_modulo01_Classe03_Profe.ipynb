{
  "nbformat": 4,
  "nbformat_minor": 0,
  "metadata": {
    "colab": {
      "name": "Estadistica_modulo01_Classe03_Profe.ipynb",
      "provenance": [],
      "collapsed_sections": [],
      "include_colab_link": true
    },
    "kernelspec": {
      "name": "python3",
      "display_name": "Python 3"
    }
  },
  "cells": [
    {
      "cell_type": "markdown",
      "metadata": {
        "id": "view-in-github",
        "colab_type": "text"
      },
      "source": [
        "<a href=\"https://colab.research.google.com/github/jeffersonquispe/DSRP-estadistica-102/blob/master/Estadistica_modulo01_Classe03_Profe.ipynb\" target=\"_parent\"><img src=\"https://colab.research.google.com/assets/colab-badge.svg\" alt=\"Open In Colab\"/></a>"
      ]
    },
    {
      "cell_type": "markdown",
      "metadata": {
        "id": "tuGAsfMfVQKd",
        "colab_type": "text"
      },
      "source": [
        " ![texto alternativo](https://drive.google.com/uc?export=view&id=14HGkNoRD0Cp4Z0KyPxvrLaj_u3eG97hC)"
      ]
    },
    {
      "cell_type": "markdown",
      "metadata": {
        "id": "acTm6PlXVSqM",
        "colab_type": "text"
      },
      "source": [
        " <img src=\"https://drive.google.com/uc?export=view&id=1Y-H2d0EzmNp2iwCH17LHxvo7Tax3C65R\" alt=\"Simply Easy Learning\" width=\"800\" \n",
        "         height=\"450\">\n",
        "\n",
        "\n",
        "      "
      ]
    },
    {
      "cell_type": "markdown",
      "metadata": {
        "id": "jnScIJom7-7v",
        "colab_type": "text"
      },
      "source": [
        " <img src=\"https://drive.google.com/uc?export=view&id=1OmpoEyGZXZPDJ8IQ1KhnYjYxuBhqb1ps\" alt=\"Simply Easy Learning\" width=\"800\" \n",
        "         height=\"450\">"
      ]
    },
    {
      "cell_type": "markdown",
      "metadata": {
        "id": "rGWv7r287p3K",
        "colab_type": "text"
      },
      "source": [
        " <img src=\"https://drive.google.com/uc?export=view&id=10m5chnld1ZD1a8mBv91bzeBWB5MPlMFj\" alt=\"Simply Easy Learning\" width=\"800\" \n",
        "         height=\"455\">"
      ]
    },
    {
      "cell_type": "markdown",
      "metadata": {
        "id": "0gfLpyDY7xWh",
        "colab_type": "text"
      },
      "source": [
        " <img src=\"https://drive.google.com/uc?export=view&id=1nJrzGcWncNM9jP1aJgzLIB7KIncyDjUV\" alt=\"Simply Easy Learning\" width=\"800\" \n",
        "         height=\"455\">"
      ]
    },
    {
      "cell_type": "markdown",
      "metadata": {
        "id": "XL8ajjGo78yr",
        "colab_type": "text"
      },
      "source": [
        " <img src=\"https://drive.google.com/uc?export=view&id=13an79aLaRFMahp2HHdhRRyHM5RwWEOqu\" alt=\"Simply Easy Learning\" width=\"800\" \n",
        "         height=\"455\">"
      ]
    },
    {
      "cell_type": "markdown",
      "metadata": {
        "id": "GHpn1x4D7kFh",
        "colab_type": "text"
      },
      "source": [
        " <img src=\"https://drive.google.com/uc?export=view&id=1vrWf5iMHo3kPT6m42OWvUI2sAKSr-9Fo\" alt=\"Simply Easy Learning\" width=\"800\" \n",
        "         height=\"455\">"
      ]
    },
    {
      "cell_type": "code",
      "metadata": {
        "id": "oB6LFYwMfVBv",
        "colab_type": "code",
        "colab": {}
      },
      "source": [
        "import numpy as np\n",
        "import pandas as pd\n",
        "age = [45,50,19,60,15,20,33,12,20,80]\n",
        "valores = pd.Series([45,50,19,60,15,20,33,12,20,80])"
      ],
      "execution_count": null,
      "outputs": []
    },
    {
      "cell_type": "code",
      "metadata": {
        "id": "vcxKfDkchkQR",
        "colab_type": "code",
        "colab": {}
      },
      "source": [
        "def stat(valores):\n",
        "    moda == valores.mode()\n",
        "    mediana == volores.median()\n",
        "    media == valores.mean()\n",
        "\n",
        "    if mean < mediana < mode:\n",
        "      print('Asimétrica negativa')\n",
        "    if mean == mediana == mode:\n",
        "      print('Simétrica')\n",
        "    if mean > \n",
        "\n"
      ],
      "execution_count": null,
      "outputs": []
    },
    {
      "cell_type": "markdown",
      "metadata": {
        "id": "e47944EJ9ZVT",
        "colab_type": "text"
      },
      "source": [
        " <img src=\"https://drive.google.com/uc?export=view&id=1OrOL958zEWqTaNt4hNcYuFbejbWv07p6\" alt=\"Simply Easy Learning\" width=\"800\" \n",
        "         height=\"455\">\n"
      ]
    },
    {
      "cell_type": "code",
      "metadata": {
        "id": "8bHwYlAz9uBS",
        "colab_type": "code",
        "colab": {}
      },
      "source": [
        "import pandas as pd\n",
        "cant_sacos = pd.Series([3780, 3690, 3700, 3770, 3730,3800, 3790, 3680, 3720, 3740, 3750], \n",
        "                          index = [\"Enero\", \"Febrero\", \"Marzo\", \"Abril\", \"Mayo\", \"Junio\", \"Julio\", \"Agosto\", \"Setiembre\", \"Octubre\", \"Noviembre\"])\n",
        "cant_sacos\n"
      ],
      "execution_count": null,
      "outputs": []
    },
    {
      "cell_type": "code",
      "metadata": {
        "id": "aKL7YRfLGeeR",
        "colab_type": "code",
        "colab": {
          "base_uri": "https://localhost:8080/",
          "height": 175
        },
        "outputId": "8a0271bf-74c8-42f8-803c-4b356f6104e8"
      },
      "source": [
        "cant_sacos.describe()\n",
        "#cant_sacos.plot.bar()"
      ],
      "execution_count": null,
      "outputs": [
        {
          "output_type": "execute_result",
          "data": {
            "text/plain": [
              "count      11.000000\n",
              "mean     3740.909091\n",
              "std        41.098551\n",
              "min      3680.000000\n",
              "25%      3710.000000\n",
              "50%      3740.000000\n",
              "75%      3775.000000\n",
              "max      3800.000000\n",
              "dtype: float64"
            ]
          },
          "metadata": {
            "tags": []
          },
          "execution_count": 44
        }
      ]
    },
    {
      "cell_type": "markdown",
      "metadata": {
        "id": "oLWrf3RYQGus",
        "colab_type": "text"
      },
      "source": [
        "**Media aritmetica ponderada**\n",
        "\n",
        "Es apropiada cuando en un conjunto de datos cada uno de ellos tiene una importancia relativa (o peso) respecto de los demás datos.\n",
        "\n",
        "$\\mu=\\frac{\\sum_i^n{x_iw_i}}{\\sum_i^n{w_i}}$\n",
        "\n",
        "Si los pesos son iguales, esto es $w_{i}=w$ para  $1\\leq i\\leq n$, entonces la media ponderada coincide con la **media aritmética**."
      ]
    },
    {
      "cell_type": "code",
      "metadata": {
        "id": "37HwDb8wlh3c",
        "colab_type": "code",
        "colab": {
          "base_uri": "https://localhost:8080/",
          "height": 34
        },
        "outputId": "819fa347-f155-4afe-ff6e-e934ba856f92"
      },
      "source": [
        "# Problema de la mochila\n",
        "cuaderno = 5\n",
        "libro = 10\n",
        "cartuchera = 8\n",
        "folder = 2\n",
        "\n",
        "# OBSERVACION\n",
        "# A la capacidad -> peso (kg)\n",
        "\n",
        "objetos = [2,6,4,3]\n",
        "pesos = [5,10,8,2]\n",
        "\n",
        "media_ponderada = np.average(objetos, weights=pesos)\n",
        "media_ponderada\n"
      ],
      "execution_count": null,
      "outputs": [
        {
          "output_type": "execute_result",
          "data": {
            "text/plain": [
              "4.32"
            ]
          },
          "metadata": {
            "tags": []
          },
          "execution_count": 72
        }
      ]
    },
    {
      "cell_type": "markdown",
      "metadata": {
        "id": "rlY4wx0XnTYm",
        "colab_type": "text"
      },
      "source": [
        "Una aldea sufre un proceso rápido de envejecimiento. El primer año aumentan los mayores de 65 años un 10%, el segundo año, un 20%, el tercer año un 30% y el cuarto año, un 40%.\n",
        "\n",
        "Si la población de inicial es de 100 mayores de 65 años, ¿cuál será un mejor indicador para caracterizar ese envejecimiento: la media aritmética o la media geométrica?"
      ]
    },
    {
      "cell_type": "code",
      "metadata": {
        "id": "-4ljnIjsniTl",
        "colab_type": "code",
        "colab": {
          "base_uri": "https://localhost:8080/",
          "height": 34
        },
        "outputId": "4ad5c8aa-8e93-436d-d08b-3d7423274c00"
      },
      "source": [
        "#100*1.10*1.20*1.30*1.40\n",
        "import math\n",
        "res = (1.1*1.2*1.3*1.4)**(1/4)\n",
        "res\n"
      ],
      "execution_count": null,
      "outputs": [
        {
          "output_type": "execute_result",
          "data": {
            "text/plain": [
              "1.2449770044461885"
            ]
          },
          "metadata": {
            "tags": []
          },
          "execution_count": 51
        }
      ]
    },
    {
      "cell_type": "markdown",
      "metadata": {
        "id": "duoo-8Y5IyWP",
        "colab_type": "text"
      },
      "source": [
        " <img src=\"https://drive.google.com/uc?export=view&id=1jzGtPJyBjfEibHQq-HcFsubqlVJavjkV\" alt=\"Simply Easy Learning\" width=\"800\" \n",
        "         height=\"455\">\n"
      ]
    },
    {
      "cell_type": "code",
      "metadata": {
        "id": "lqfc8SBvqtyA",
        "colab_type": "code",
        "colab": {
          "base_uri": "https://localhost:8080/",
          "height": 70
        },
        "outputId": "924955e2-e407-402c-c781-3f0100c277ad"
      },
      "source": [
        "# -----Q1-----Q2-----Q3-----\n",
        "# ordenados!!!\n",
        "# Q1 = cae en el 25%\n",
        "# Q2 = cae en el 50% -> mediana\n",
        "# Q3 = cae en el 75%\n",
        "import numpy as np\n",
        "lista_np = np.array([0,1,2,3,4,5,6,7,8,9])\n",
        "Q1 = np.percentile(lista_np,25)\n",
        "print(Q1)\n",
        "Q2 = np.percentile(lista_np,50)\n",
        "print(Q2)\n",
        "Q3 = np.percentile(lista_np,75)\n",
        "print(Q3)"
      ],
      "execution_count": null,
      "outputs": [
        {
          "output_type": "stream",
          "text": [
            "2.25\n",
            "4.5\n",
            "6.75\n"
          ],
          "name": "stdout"
        }
      ]
    },
    {
      "cell_type": "markdown",
      "metadata": {
        "id": "eq5LqrzYLPXb",
        "colab_type": "text"
      },
      "source": [
        " <img src=\"https://drive.google.com/uc?export=view&id=12mkyIKWLebwl97KWMHFYU602oqthwGJ5\" alt=\"Simply Easy Learning\" width=\"800\" \n",
        "         height=\"455\">"
      ]
    },
    {
      "cell_type": "code",
      "metadata": {
        "id": "SRdEGh7htUy2",
        "colab_type": "code",
        "colab": {
          "base_uri": "https://localhost:8080/",
          "height": 34
        },
        "outputId": "0ddb4bb1-3ccb-473d-aef5-8dbeb5488799"
      },
      "source": [
        "#---D1---D2--D3---D4---D5---D6.....D9\n",
        "#--P1--P2--..........P99\n",
        "#lista_np = np.array([0,1,2,3,4,5,6,7,8,9])\n",
        "lista_np = np.random.randint(1,500,50)\n",
        "#print(lista_np)\n",
        "D1 = np.percentile(lista_np,10)\n",
        "D9 = np.percentile(lista_np,90)\n",
        "p8 = np.percentile(lista_np,8)\n",
        "print(p8)"
      ],
      "execution_count": null,
      "outputs": [
        {
          "output_type": "stream",
          "text": [
            "56.96\n"
          ],
          "name": "stdout"
        }
      ]
    },
    {
      "cell_type": "markdown",
      "metadata": {
        "id": "UZMdqddxLiOP",
        "colab_type": "text"
      },
      "source": [
        " <img src=\"https://drive.google.com/uc?export=view&id=1-EGcc-6569xF2E8kmWjdVDRFJCiySFKv\" alt=\"Simply Easy Learning\" width=\"800\" \n",
        "         height=\"455\">"
      ]
    },
    {
      "cell_type": "code",
      "metadata": {
        "id": "9a0FVQnDxW6J",
        "colab_type": "code",
        "colab": {}
      },
      "source": [
        "# -----Q1-----Q2-----Q3-----\n"
      ],
      "execution_count": null,
      "outputs": []
    },
    {
      "cell_type": "code",
      "metadata": {
        "id": "gSsbuvYxwcoZ",
        "colab_type": "code",
        "colab": {
          "base_uri": "https://localhost:8080/",
          "height": 34
        },
        "outputId": "1463414d-37bc-47ec-b2f4-168192feb7b2"
      },
      "source": [
        "my_lista = np.array([4, 6, 8 ,9 ,25, 80, 90])\n",
        "R = my_lista.max() - my_lista.min()\n",
        "R\n"
      ],
      "execution_count": null,
      "outputs": [
        {
          "output_type": "execute_result",
          "data": {
            "text/plain": [
              "86"
            ]
          },
          "metadata": {
            "tags": []
          },
          "execution_count": 77
        }
      ]
    },
    {
      "cell_type": "code",
      "metadata": {
        "id": "ZKj2mfueYd-T",
        "colab_type": "code",
        "colab": {
          "base_uri": "https://localhost:8080/",
          "height": 203
        },
        "outputId": "124312ec-4191-4d61-a1bb-adff79f0b468"
      },
      "source": [
        "import pandas as pd\n",
        "iris = pd.read_csv(\"https://raw.githubusercontent.com/toneloy/data/master/iris.csv\")\n",
        "iris.head()"
      ],
      "execution_count": null,
      "outputs": [
        {
          "output_type": "execute_result",
          "data": {
            "text/html": [
              "<div>\n",
              "<style scoped>\n",
              "    .dataframe tbody tr th:only-of-type {\n",
              "        vertical-align: middle;\n",
              "    }\n",
              "\n",
              "    .dataframe tbody tr th {\n",
              "        vertical-align: top;\n",
              "    }\n",
              "\n",
              "    .dataframe thead th {\n",
              "        text-align: right;\n",
              "    }\n",
              "</style>\n",
              "<table border=\"1\" class=\"dataframe\">\n",
              "  <thead>\n",
              "    <tr style=\"text-align: right;\">\n",
              "      <th></th>\n",
              "      <th>sepal_length</th>\n",
              "      <th>sepal_width</th>\n",
              "      <th>petal_length</th>\n",
              "      <th>petal_width</th>\n",
              "      <th>species</th>\n",
              "    </tr>\n",
              "  </thead>\n",
              "  <tbody>\n",
              "    <tr>\n",
              "      <th>0</th>\n",
              "      <td>5.1</td>\n",
              "      <td>3.5</td>\n",
              "      <td>1.4</td>\n",
              "      <td>0.2</td>\n",
              "      <td>setosa</td>\n",
              "    </tr>\n",
              "    <tr>\n",
              "      <th>1</th>\n",
              "      <td>4.9</td>\n",
              "      <td>3.0</td>\n",
              "      <td>1.4</td>\n",
              "      <td>0.2</td>\n",
              "      <td>setosa</td>\n",
              "    </tr>\n",
              "    <tr>\n",
              "      <th>2</th>\n",
              "      <td>4.7</td>\n",
              "      <td>3.2</td>\n",
              "      <td>1.3</td>\n",
              "      <td>0.2</td>\n",
              "      <td>setosa</td>\n",
              "    </tr>\n",
              "    <tr>\n",
              "      <th>3</th>\n",
              "      <td>4.6</td>\n",
              "      <td>3.1</td>\n",
              "      <td>1.5</td>\n",
              "      <td>0.2</td>\n",
              "      <td>setosa</td>\n",
              "    </tr>\n",
              "    <tr>\n",
              "      <th>4</th>\n",
              "      <td>5.0</td>\n",
              "      <td>3.6</td>\n",
              "      <td>1.4</td>\n",
              "      <td>0.2</td>\n",
              "      <td>setosa</td>\n",
              "    </tr>\n",
              "  </tbody>\n",
              "</table>\n",
              "</div>"
            ],
            "text/plain": [
              "   sepal_length  sepal_width  petal_length  petal_width species\n",
              "0           5.1          3.5           1.4          0.2  setosa\n",
              "1           4.9          3.0           1.4          0.2  setosa\n",
              "2           4.7          3.2           1.3          0.2  setosa\n",
              "3           4.6          3.1           1.5          0.2  setosa\n",
              "4           5.0          3.6           1.4          0.2  setosa"
            ]
          },
          "metadata": {
            "tags": []
          },
          "execution_count": 78
        }
      ]
    },
    {
      "cell_type": "code",
      "metadata": {
        "id": "ktayVMegaAcG",
        "colab_type": "code",
        "colab": {
          "base_uri": "https://localhost:8080/",
          "height": 423
        },
        "outputId": "54f9d9e9-a904-489b-ed43-c08206b2577a"
      },
      "source": [
        "from plotnine import *\n",
        "\n",
        "(ggplot(iris) +\n",
        "  geom_boxplot(aes(x=0, y=\"sepal_length\")) +\n",
        "  labs(x=\"\") +\n",
        "  theme(\n",
        "    axis_text_x=element_blank(),\n",
        "    axis_ticks_minor_x=element_blank(),\n",
        "    axis_ticks_major_x=element_blank()\n",
        "  ))"
      ],
      "execution_count": null,
      "outputs": [
        {
          "output_type": "display_data",
          "data": {
            "image/png": "[encoded data removed]",
            "text/plain": [
              "<Figure size 640x480 with 1 Axes>"
            ]
          },
          "metadata": {
            "tags": []
          }
        },
        {
          "output_type": "execute_result",
          "data": {
            "text/plain": [
              "<ggplot: (-9223363292606447388)>"
            ]
          },
          "metadata": {
            "tags": []
          },
          "execution_count": 27
        }
      ]
    },
    {
      "cell_type": "code",
      "metadata": {
        "id": "Gj1XzVAAYf-a",
        "colab_type": "code",
        "colab": {
          "base_uri": "https://localhost:8080/",
          "height": 464
        },
        "outputId": "90a2b9e8-bedb-4e75-bde9-aa52f1d57357"
      },
      "source": [
        "from plotnine import *\n",
        "(ggplot(iris) +\n",
        "  geom_boxplot(aes(x=\"species\", y=\"sepal_length\")))"
      ],
      "execution_count": null,
      "outputs": [
        {
          "output_type": "display_data",
          "data": {
            "image/png": "[encoded data removed]",
            "text/plain": [
              "<Figure size 640x480 with 1 Axes>"
            ]
          },
          "metadata": {
            "tags": []
          }
        },
        {
          "output_type": "execute_result",
          "data": {
            "text/plain": [
              "<ggplot: (-9223363292577358462)>"
            ]
          },
          "metadata": {
            "tags": []
          },
          "execution_count": 26
        }
      ]
    },
    {
      "cell_type": "code",
      "metadata": {
        "id": "ZgJ8SYPQ2edU",
        "colab_type": "code",
        "colab": {}
      },
      "source": [
        "[0 0 0 0 0 0 0 0 0 0 0 0 0 0 0 0 0 0 0 0 0 ]\n",
        "#Q1 =0\n",
        "#Q2 = 0\n",
        "#Q3 = 0"
      ],
      "execution_count": null,
      "outputs": []
    },
    {
      "cell_type": "markdown",
      "metadata": {
        "id": "MAPWDaYELpmf",
        "colab_type": "text"
      },
      "source": [
        " <img src=\"https://drive.google.com/uc?export=view&id=1C17Psu-vVE2Gv_z0vCeyE0vFK0dEComA\" alt=\"Simply Easy Learning\" width=\"800\" \n",
        "         height=\"455\">\n",
        "\n"
      ]
    },
    {
      "cell_type": "code",
      "metadata": {
        "id": "20Gb6ZldAmAq",
        "colab_type": "code",
        "colab": {
          "base_uri": "https://localhost:8080/",
          "height": 564
        },
        "outputId": "66c9c6d6-7d41-4492-e66a-9a888736e3d7"
      },
      "source": [
        "import numpy as np\n",
        "import matplotlib.pyplot as plt\n",
        "\n",
        "metodo1 = np.array([10,20,30,40,50]) # experimentos 5 veces en mi modelo\n",
        "var1=np.var(metodo1) # menor estabilidad\n",
        "print(var1)\n",
        "\n",
        "metodo2 = np.array([40.5,38.9,48.4,40,50]) # experimentos 5 veces en mi modelo\n",
        "var2=np.var(metodo2)\n",
        "print(var2)\n",
        "\n",
        "plt.boxplot([metodo1,metodo2])\n"
      ],
      "execution_count": null,
      "outputs": [
        {
          "output_type": "stream",
          "text": [
            "200.0\n",
            "21.730400000000003\n"
          ],
          "name": "stdout"
        },
        {
          "output_type": "execute_result",
          "data": {
            "text/plain": [
              "{'boxes': [<matplotlib.lines.Line2D at 0x7f19f7cb47f0>,\n",
              "  <matplotlib.lines.Line2D at 0x7f19f7ccd048>],\n",
              " 'caps': [<matplotlib.lines.Line2D at 0x7f19f7cc2240>,\n",
              "  <matplotlib.lines.Line2D at 0x7f19f7cc25c0>,\n",
              "  <matplotlib.lines.Line2D at 0x7f19f7ccdb00>,\n",
              "  <matplotlib.lines.Line2D at 0x7f19f7ccde80>],\n",
              " 'fliers': [<matplotlib.lines.Line2D at 0x7f19f7cc2cc0>,\n",
              "  <matplotlib.lines.Line2D at 0x7f19f7cd95c0>],\n",
              " 'means': [],\n",
              " 'medians': [<matplotlib.lines.Line2D at 0x7f19f7cc2940>,\n",
              "  <matplotlib.lines.Line2D at 0x7f19f7cd9240>],\n",
              " 'whiskers': [<matplotlib.lines.Line2D at 0x7f19f7cb4b00>,\n",
              "  <matplotlib.lines.Line2D at 0x7f19f7cb4e80>,\n",
              "  <matplotlib.lines.Line2D at 0x7f19f7ccd400>,\n",
              "  <matplotlib.lines.Line2D at 0x7f19f7ccd780>]}"
            ]
          },
          "metadata": {
            "tags": []
          },
          "execution_count": 18
        },
        {
          "output_type": "display_data",
          "data": {
            "image/png": "[encoded data removed]",
            "text/plain": [
              "<Figure size 432x288 with 1 Axes>"
            ]
          },
          "metadata": {
            "tags": [],
            "needs_background": "light"
          }
        }
      ]
    },
    {
      "cell_type": "code",
      "metadata": {
        "id": "rAqfuQUdSQ7e",
        "colab_type": "code",
        "colab": {}
      },
      "source": [
        "# data era manejable a nivel exploratorio (decriptiva)\n",
        "# faltaban información"
      ],
      "execution_count": null,
      "outputs": []
    },
    {
      "cell_type": "markdown",
      "metadata": {
        "id": "gbf09zpwLyqv",
        "colab_type": "text"
      },
      "source": [
        " <img src=\"https://drive.google.com/uc?export=view&id=1OgkDO9_FO-mhG0AHMIJuznLIPYum4zFW\" alt=\"Simply Easy Learning\" width=\"800\" \n",
        "         height=\"455\">\n",
        "\n",
        "\n"
      ]
    },
    {
      "cell_type": "code",
      "metadata": {
        "id": "9zCW66oxUZZq",
        "colab_type": "code",
        "colab": {
          "base_uri": "https://localhost:8080/",
          "height": 52
        },
        "outputId": "91be5a44-412d-43ae-90d5-43302b9fb5d7"
      },
      "source": [
        "np.random.seed(10)\n",
        "X = np.array([4,3,5])#np.random.randint(1, 50, 10)\n",
        "b = 2 #valor de ajuste\n",
        "c = 4\n",
        "\n",
        "Y = X + b\n",
        "'''\n",
        " X0 X1 X2  Y\n",
        " 4  5  6   4 +2=6  \n",
        " 3  2  8   3 +2=5\n",
        " 5  7  9   5 +2=7\n",
        "'''\n",
        "\n",
        "#p1\n",
        "sy2 = np.var(X)\n",
        "sx2 = np.var(Y)\n",
        "print(f\"sy2:{sy2}, sx2:{sx2}\") # forma de mostrar valores con texto en Python3\n",
        "print(\"sy2:\",sy2, \"sx2:\", sx2) # clásica"
      ],
      "execution_count": null,
      "outputs": [
        {
          "output_type": "stream",
          "text": [
            "sy2:0.6666666666666666, sx2:0.6666666666666666\n",
            "sy2: 0.6666666666666666 sx2: 0.6666666666666666\n"
          ],
          "name": "stdout"
        }
      ]
    },
    {
      "cell_type": "code",
      "metadata": {
        "id": "L_wfEYBOXkGm",
        "colab_type": "code",
        "colab": {
          "base_uri": "https://localhost:8080/",
          "height": 34
        },
        "outputId": "46418d70-89ca-474e-8170-37674af21835"
      },
      "source": [
        "np.random.seed(10)\n",
        "X = np.array([4,3,5])#np.random.randint(1, 50, 10)\n",
        "b = 2 #valor de ajuste\n",
        "c = 4\n",
        "\n",
        "Y = X * c\n",
        "'''\n",
        " X0 X1 X2  Y\n",
        " 4  5  6   4 x4=16 \n",
        " 3  2  8   3 x4=12\n",
        " 5  7  9   5 x4=20\n",
        "'''\n",
        "print(\"sy2:\", np.var(Y), \"sx2:\", np.var(X)*c**2)\n"
      ],
      "execution_count": null,
      "outputs": [
        {
          "output_type": "stream",
          "text": [
            "sy2: 10.666666666666666 sx2: 10.666666666666666\n"
          ],
          "name": "stdout"
        }
      ]
    },
    {
      "cell_type": "code",
      "metadata": {
        "id": "7tqsKslui5Wo",
        "colab_type": "code",
        "colab": {
          "base_uri": "https://localhost:8080/",
          "height": 70
        },
        "outputId": "8dcd134f-da0f-4b17-ba8f-2e71e2335152"
      },
      "source": [
        "# \n",
        "np.random.seed(10)\n",
        "x = np.random.randint(1, 50, 10)\n",
        "b = 2\n",
        "c = 4\n",
        "# Propiedad 1\n",
        "#y = x + b \n",
        "#sy2 = np.var(y)\n",
        "#sx2 = np.var(x)\n",
        "#print(f\"x={x}\")\n",
        "#print(f\"y={y}\")\n",
        "#print(f\"sy2={sy2:.2f} sx2 ={sx2:.2f}\")\n",
        "\n",
        "# Propiedad 2\n",
        "y = c*x + b\n",
        "sy2 = np.var(y)\n",
        "sx2 = np.var(x)\n",
        "print(f\"x={x}\")\n",
        "print(f\"y={y}\")\n",
        "print(f\"sy2={sy2} sx2 ={sx2}\")"
      ],
      "execution_count": null,
      "outputs": [
        {
          "output_type": "stream",
          "text": [
            "x=[10 37 16  1 29 26 30 49 30  9]\n",
            "y=[ 42 150  66   6 118 106 122 198 122  38]\n",
            "sy2=3052.96 sx2 =3052.96\n"
          ],
          "name": "stdout"
        }
      ]
    },
    {
      "cell_type": "code",
      "metadata": {
        "id": "WbRwuYkJZl-u",
        "colab_type": "code",
        "colab": {
          "base_uri": "https://localhost:8080/",
          "height": 34
        },
        "outputId": "62c32d68-5fd7-4846-8f10-3498a32638ab"
      },
      "source": [
        "np.random.seed(10)\n",
        "X = np.array([4,3,5])#np.random.randint(1, 50, 10)\n",
        "b = 2 #valor de ajuste\n",
        "c = 4\n",
        " \n",
        "Y = X * c +b\n",
        "'''\n",
        " X0 X1 X2  Y\n",
        " 4  5  6   4 x4+2=18\n",
        " 3  2  8   3 x4+2=14\n",
        " 5  7  9   5 x4+2=22\n",
        "'''\n",
        "print(\"sy2:\", np.var(Y), \"sx2:\", np.var(X)*c**2)"
      ],
      "execution_count": null,
      "outputs": [
        {
          "output_type": "stream",
          "text": [
            "sy2: 10.666666666666666 sx2: 10.666666666666666\n"
          ],
          "name": "stdout"
        }
      ]
    },
    {
      "cell_type": "markdown",
      "metadata": {
        "id": "MPfybtNLL9D3",
        "colab_type": "text"
      },
      "source": [
        " <img src=\"https://drive.google.com/uc?export=view&id=15aIqabLJ4ZqC_fkCADHUWqwt_131SAHf\" alt=\"Simply Easy Learning\" width=\"800\" \n",
        "         height=\"455\">"
      ]
    },
    {
      "cell_type": "code",
      "metadata": {
        "id": "X6puTGZiBf9N",
        "colab_type": "code",
        "colab": {
          "base_uri": "https://localhost:8080/",
          "height": 52
        },
        "outputId": "a50662e7-77bd-4893-d056-0d83f9a6e9c9"
      },
      "source": [
        "#----0--4000--0---  s = 300\n",
        "#0------600-------0 s = 300\n",
        "cv_tv = 300/4000*100\n",
        "print(cv_tv)\n",
        "cv_pl = 300/600*100\n",
        "print(cv_pl)\n"
      ],
      "execution_count": null,
      "outputs": [
        {
          "output_type": "stream",
          "text": [
            "7.5\n",
            "50.0\n"
          ],
          "name": "stdout"
        }
      ]
    },
    {
      "cell_type": "markdown",
      "metadata": {
        "id": "PZ8wx3ccMIxP",
        "colab_type": "text"
      },
      "source": [
        " <img src=\"https://drive.google.com/uc?export=view&id=1YVvbySbliAI0XxYkwE4LEY80CLLSiiJy\" alt=\"Simply Easy Learning\" width=\"800\" \n",
        "         height=\"455\">"
      ]
    },
    {
      "cell_type": "markdown",
      "metadata": {
        "id": "IoMfQRDeQ74B",
        "colab_type": "text"
      },
      "source": [
        "La **curtosis** (también conocida como medida de apuntamiento) es una medida estadística, que determina el grado de concentración que presentan los valores de una variable alrededor de la zona central de la distribución de frecuencias.\n",
        "Tomando, pues, la distribución normal como referencia, una distribución puede ser:\n",
        "\n",
        "* **leptocúrtica**, cuando  β2>3  y  g2>0 : más apuntada y con colas más gruesas que la normal.\n",
        "* **platicúrtica**,  β2<3  y  g2<0 : menos apuntada y con colas menos gruesas que la normal.\n",
        "* **mesocúrtica**,  β2=3  y  g2=0 : cuando tiene una distribución normal."
      ]
    },
    {
      "cell_type": "code",
      "metadata": {
        "id": "_HicEF_oceXG",
        "colab_type": "code",
        "colab": {
          "base_uri": "https://localhost:8080/",
          "height": 338
        },
        "outputId": "744d5688-61cb-49aa-ddb2-118b3cdbfb46"
      },
      "source": [
        "arreglo = ([20,41,57,68,81,73,45,19,24,35,69,85,47,63,45])\n",
        "curt = (np.percentile(arreglo,75)-np.percentile(arreglo,25))/(2*(np.percentile(arreglo,90)-(np.percentile(arreglo,10))))\n",
        "import seaborn as sbs\n",
        "sbs.distplot(arreglo)\n",
        "\n",
        "\n",
        "\n",
        "\n",
        "\n"
      ],
      "execution_count": null,
      "outputs": [
        {
          "output_type": "stream",
          "text": [
            "/usr/local/lib/python3.6/dist-packages/statsmodels/tools/_testing.py:19: FutureWarning: pandas.util.testing is deprecated. Use the functions in the public API at pandas.testing instead.\n",
            "  import pandas.util.testing as tm\n"
          ],
          "name": "stderr"
        },
        {
          "output_type": "execute_result",
          "data": {
            "text/plain": [
              "<matplotlib.axes._subplots.AxesSubplot at 0x7f19ed616be0>"
            ]
          },
          "metadata": {
            "tags": []
          },
          "execution_count": 45
        },
        {
          "output_type": "display_data",
          "data": {
            "image/png": "[encoded data removed]",
            "text/plain": [
              "<Figure size 432x288 with 1 Axes>"
            ]
          },
          "metadata": {
            "tags": [],
            "needs_background": "light"
          }
        }
      ]
    },
    {
      "cell_type": "code",
      "metadata": {
        "id": "MPlYhykgdAnJ",
        "colab_type": "code",
        "colab": {
          "base_uri": "https://localhost:8080/",
          "height": 372
        },
        "outputId": "591094c1-518d-4c70-cb47-c2732e4a2b30"
      },
      "source": [
        "leche= np.array([18.1 ,18.5,19.9,20.4,20.5,21.1,21.3,21.3,21.3,22.0,22.2,22.4])\n",
        "\n",
        "P25 = np.percentile(leche,25)\n",
        "\n",
        "print(P25)\n",
        "\n",
        "P75 = np.percentile(leche,75)\n",
        "\n",
        "print(P75)\n",
        "\n",
        "P90 = np.percentile(leche,90)\n",
        "\n",
        "print(P90)\n",
        "\n",
        "P10 = np.percentile(leche,10)\n",
        "\n",
        "print(P10)\n",
        "\n",
        "#Calculo de curtosis \n",
        "\n",
        "K=(P75-P25)/(2*(P90-P10))\n",
        "\n",
        "print(K)\n",
        "\n",
        "sbs.distplot(leche)"
      ],
      "execution_count": null,
      "outputs": [
        {
          "output_type": "stream",
          "text": [
            "20.275\n",
            "21.475\n",
            "22.18\n",
            "18.64\n",
            "0.16949152542372925\n"
          ],
          "name": "stdout"
        },
        {
          "output_type": "execute_result",
          "data": {
            "text/plain": [
              "<matplotlib.axes._subplots.AxesSubplot at 0x7f19f7aeb978>"
            ]
          },
          "metadata": {
            "tags": []
          },
          "execution_count": 46
        },
        {
          "output_type": "display_data",
          "data": {
            "image/png": "[encoded data removed]",
            "text/plain": [
              "<Figure size 432x288 with 1 Axes>"
            ]
          },
          "metadata": {
            "tags": [],
            "needs_background": "light"
          }
        }
      ]
    },
    {
      "cell_type": "markdown",
      "metadata": {
        "id": "Md_3TPZG3OCL",
        "colab_type": "text"
      },
      "source": [
        "La curtosis (o apuntamiento) es una medida de forma que estima cuán escarpada o achatada está una curva o distribución, respecto a la distribución normal o distribución gaussiana.\n",
        "\n",
        "Indica la cantidad de datos que hay cercanos a la **media**, de manera que a mayor grado de curtosis, más escarpada (o apuntada) será la forma de la curva y viceversa."
      ]
    },
    {
      "cell_type": "code",
      "metadata": {
        "id": "a9w69xVv3Nxr",
        "colab_type": "code",
        "colab": {}
      },
      "source": [
        ""
      ],
      "execution_count": null,
      "outputs": []
    },
    {
      "cell_type": "markdown",
      "metadata": {
        "id": "_1egqMYzMUux",
        "colab_type": "text"
      },
      "source": [
        " <img src=\"https://drive.google.com/uc?export=view&id=1xuObXZOg5NtbFUrYxwV04FxZ-2eD6VA0\" alt=\"Simply Easy Learning\" width=\"800\" \n",
        "         height=\"455\">"
      ]
    },
    {
      "cell_type": "markdown",
      "metadata": {
        "id": "NHFQe5sOMc1Q",
        "colab_type": "text"
      },
      "source": [
        " <img src=\"https://drive.google.com/uc?export=view&id=1pUkoqK-ssn17FnMZUHvO9Nhprrl7NimX\" alt=\"Simply Easy Learning\" width=\"800\" \n",
        "         height=\"455\">\n"
      ]
    },
    {
      "cell_type": "code",
      "metadata": {
        "id": "tnR8vqLPfnEP",
        "colab_type": "code",
        "colab": {
          "base_uri": "https://localhost:8080/",
          "height": 406
        },
        "outputId": "609b64ac-5dd3-4400-9389-087fa028b3cc"
      },
      "source": [
        "import matplotlib.pyplot as plt\n",
        "edades=np.array([20,30,25,40,30,25,40,30,25,40,30,25,40,30,25,40,30,25,40,30,25,40,30,25,40,-50,140,85,92,76,48,100])\n",
        "plt.boxplot(edades)"
      ],
      "execution_count": null,
      "outputs": [
        {
          "output_type": "execute_result",
          "data": {
            "text/plain": [
              "{'boxes': [<matplotlib.lines.Line2D at 0x7f19ecf1cef0>],\n",
              " 'caps': [<matplotlib.lines.Line2D at 0x7f19ecf2a940>,\n",
              "  <matplotlib.lines.Line2D at 0x7f19ecf2acc0>],\n",
              " 'fliers': [<matplotlib.lines.Line2D at 0x7f19eceb3400>],\n",
              " 'means': [],\n",
              " 'medians': [<matplotlib.lines.Line2D at 0x7f19eceb3080>],\n",
              " 'whiskers': [<matplotlib.lines.Line2D at 0x7f19ecf2a240>,\n",
              "  <matplotlib.lines.Line2D at 0x7f19ecf2a5c0>]}"
            ]
          },
          "metadata": {
            "tags": []
          },
          "execution_count": 52
        },
        {
          "output_type": "display_data",
          "data": {
            "image/png": "[encoded data removed]",
            "text/plain": [
              "<Figure size 432x288 with 1 Axes>"
            ]
          },
          "metadata": {
            "tags": [],
            "needs_background": "light"
          }
        }
      ]
    },
    {
      "cell_type": "markdown",
      "metadata": {
        "id": "eIsuK6FzM2iS",
        "colab_type": "text"
      },
      "source": [
        " <img src=\"https://drive.google.com/uc?export=view&id=1ZEABHPWRmVTKypH2R5qJzZFd6Dl2CU70\" alt=\"Simply Easy Learning\" width=\"800\" \n",
        "         height=\"455\">"
      ]
    },
    {
      "cell_type": "markdown",
      "metadata": {
        "id": "cwh3herbM-4L",
        "colab_type": "text"
      },
      "source": [
        " <img src=\"https://drive.google.com/uc?export=view&id=1WskoJ_SY07P1s0uPuX9Y30WSvZyCAJV8\" alt=\"Simply Easy Learning\" width=\"800\" \n",
        "         height=\"455\">\n"
      ]
    },
    {
      "cell_type": "code",
      "metadata": {
        "id": "W8Nry2Bujt4B",
        "colab_type": "code",
        "colab": {
          "base_uri": "https://localhost:8080/",
          "height": 319
        },
        "outputId": "3916868f-7d16-4b45-bed4-60e447b08ed3"
      },
      "source": [
        "fechas = ['19/08/2019', '20/08/2019', '21/08/2019', '22/08/2019', '23/08/2019']\n",
        "primas = [79, 80, 79, 80, 82]\n",
        "#plt.bar(fechas,primas)\n",
        "plt.bar(range(5),primas)\n",
        "plt.xticks(range(5),fechas, rotation = 45)\n",
        "plt.ylim(min(primas)-1, max(primas)+1)\n",
        "plt.title(\"PRIMAS DE RIESGO EN PERU\")\n",
        "plt.show()\n"
      ],
      "execution_count": null,
      "outputs": [
        {
          "output_type": "display_data",
          "data": {
            "image/png": "[encoded data removed]",
            "text/plain": [
              "<Figure size 432x288 with 1 Axes>"
            ]
          },
          "metadata": {
            "tags": [],
            "needs_background": "light"
          }
        }
      ]
    },
    {
      "cell_type": "code",
      "metadata": {
        "id": "Vc8hrNS9nBc-",
        "colab_type": "code",
        "colab": {
          "base_uri": "https://localhost:8080/",
          "height": 282
        },
        "outputId": "c4c9915d-3a9b-48cd-a958-b811c4b0df5f"
      },
      "source": [
        "fechas = ['19/08/2019', '20/08/2019', '21/08/2019', '22/08/2019', '23/08/2019']\n",
        "primas = [79, 80, 79, 80, 82]\n",
        "#plt.bar(fechas,primas)\n",
        "plt.barh(range(5),primas)  #graficar en horizontal\n",
        "plt.yticks(range(5),fechas, rotation = 45)\n",
        "plt.xlim(min(primas)-1, max(primas)+1)\n",
        "plt.title(\"PRIMAS DE RIESGO EN PERU\")\n",
        "plt.show()"
      ],
      "execution_count": null,
      "outputs": [
        {
          "output_type": "display_data",
          "data": {
            "image/png": "[encoded data removed]",
            "text/plain": [
              "<Figure size 432x288 with 1 Axes>"
            ]
          },
          "metadata": {
            "tags": [],
            "needs_background": "light"
          }
        }
      ]
    },
    {
      "cell_type": "code",
      "metadata": {
        "id": "sak3UwBrnutu",
        "colab_type": "code",
        "colab": {
          "base_uri": "https://localhost:8080/",
          "height": 248
        },
        "outputId": "7ea70302-08b5-43e7-9e55-d92518ea6188"
      },
      "source": [
        "# Gráfico circular, donde los sectores se ordenarán y trazarán en sentido antihorario::\n",
        "labels = ['Ranas', 'Cerdos', 'Perros', 'Gatos']\n",
        "sizes = [15, 30, 45, 10]\n",
        "explode = (0, 0, 0.1, 0)  \n",
        "\n",
        "plt.pie(sizes, labels = labels, explode=explode, autopct='%1.1f%%', shadow=True)\n",
        "plt.show()"
      ],
      "execution_count": null,
      "outputs": [
        {
          "output_type": "display_data",
          "data": {
            "image/png": "[encoded data removed]",
            "text/plain": [
              "<Figure size 432x288 with 1 Axes>"
            ]
          },
          "metadata": {
            "tags": []
          }
        }
      ]
    },
    {
      "cell_type": "markdown",
      "metadata": {
        "id": "xyjhalIoNJV1",
        "colab_type": "text"
      },
      "source": [
        " <img src=\"https://drive.google.com/uc?export=view&id=1ThthmKwpXzukDfuyNvUc9ytWv5wW56tI\" alt=\"Simply Easy Learning\" width=\"800\" \n",
        "         height=\"455\">"
      ]
    },
    {
      "cell_type": "code",
      "metadata": {
        "id": "0uTRFMzRrAEs",
        "colab_type": "code",
        "colab": {
          "base_uri": "https://localhost:8080/",
          "height": 320
        },
        "outputId": "5212cf18-4196-409c-d0d3-1924532142d0"
      },
      "source": [
        "x = np.arange(1, 11)\n",
        "y = np.random.randint(10, size=10)\n",
        "plt.stem(x, y)\n",
        "plt.show()"
      ],
      "execution_count": null,
      "outputs": [
        {
          "output_type": "stream",
          "text": [
            "/usr/local/lib/python3.6/dist-packages/ipykernel_launcher.py:3: UserWarning: In Matplotlib 3.3 individual lines on a stem plot will be added as a LineCollection instead of individual lines. This significantly improves the performance of a stem plot. To remove this warning and switch to the new behaviour, set the \"use_line_collection\" keyword argument to True.\n",
            "  This is separate from the ipykernel package so we can avoid doing imports until\n"
          ],
          "name": "stderr"
        },
        {
          "output_type": "display_data",
          "data": {
            "image/png": "[encoded data removed]",
            "text/plain": [
              "<Figure size 432x288 with 1 Axes>"
            ]
          },
          "metadata": {
            "tags": [],
            "needs_background": "light"
          }
        }
      ]
    },
    {
      "cell_type": "code",
      "metadata": {
        "id": "FYTMgCrbr63g",
        "colab_type": "code",
        "colab": {
          "base_uri": "https://localhost:8080/",
          "height": 318
        },
        "outputId": "ab684f45-bb77-4264-8151-a56bf7cf03a0"
      },
      "source": [
        "y = np.random.randint(10, size=100)\n",
        "print(y)\n",
        "plt.grid(True)\n",
        "plt.hist(y, edgecolor = \"black\", bins = 5)\n",
        "plt.show()"
      ],
      "execution_count": null,
      "outputs": [
        {
          "output_type": "stream",
          "text": [
            "[6 0 3 2 1 0 9 2 9 3 9 0 1 3 0 1 0 3 3 3 9 0 8 2 8 3 5 0 5 2 4 3 1 5 3 6 4\n",
            " 1 9 8 9 0 4 8 3 9 3 3 7 8 6 1 5 8 3 8 8 9 9 8 2 1 7 3 7 7 2 7 4 9 1 0 7 3\n",
            " 7 3 7 2 4 4 3 6 1 7 9 1 5 9 5 5 6 9 9 1 7 9 1 6 0 2]\n"
          ],
          "name": "stdout"
        },
        {
          "output_type": "display_data",
          "data": {
            "image/png": "[encoded data removed]",
            "text/plain": [
              "<Figure size 432x288 with 1 Axes>"
            ]
          },
          "metadata": {
            "tags": [],
            "needs_background": "light"
          }
        }
      ]
    },
    {
      "cell_type": "markdown",
      "metadata": {
        "id": "nDHMwdbbNQln",
        "colab_type": "text"
      },
      "source": [
        " <img src=\"https://drive.google.com/uc?export=view&id=1T7ByOcoxCGXoyKtJk1_8AS8GSr5sjt1e\" alt=\"Simply Easy Learning\" width=\"800\" \n",
        "         height=\"455\">\n"
      ]
    },
    {
      "cell_type": "code",
      "metadata": {
        "id": "stjEpec-tn3O",
        "colab_type": "code",
        "colab": {
          "base_uri": "https://localhost:8080/",
          "height": 265
        },
        "outputId": "edf37e71-f207-48aa-92df-7a538c30a599"
      },
      "source": [
        "x = np.array(range(10)) # variable independiente\n",
        "y = x*2 + 2# variable dependiente\n",
        "plt.scatter(x,y)\n",
        "plt.show()\n",
        "\n",
        "# contrastando entre columnas"
      ],
      "execution_count": null,
      "outputs": [
        {
          "output_type": "display_data",
          "data": {
            "image/png": "[encoded data removed]",
            "text/plain": [
              "<Figure size 432x288 with 1 Axes>"
            ]
          },
          "metadata": {
            "tags": [],
            "needs_background": "light"
          }
        }
      ]
    },
    {
      "cell_type": "markdown",
      "metadata": {
        "id": "-u7RwbIZNc5M",
        "colab_type": "text"
      },
      "source": [
        " <img src=\"https://drive.google.com/uc?export=view&id=1VW8g8C5d18TCi0WWj_sGpKVw9rBSbxlB\" alt=\"Simply Easy Learning\" width=\"800\" \n",
        "         height=\"455\">\n"
      ]
    },
    {
      "cell_type": "markdown",
      "metadata": {
        "id": "P6k135MPNm8S",
        "colab_type": "text"
      },
      "source": [
        " <img src=\"https://drive.google.com/uc?export=view&id=1d5sSCaDEHHRVp6fdsmVmwjtnXVTaRrgD\" alt=\"Simply Easy Learning\" width=\"800\" \n",
        "         height=\"455\">\n"
      ]
    },
    {
      "cell_type": "markdown",
      "metadata": {
        "id": "JYDPACTANu55",
        "colab_type": "text"
      },
      "source": [
        " <img src=\"https://drive.google.com/uc?export=view&id=10RBlKl6Q_HwSuajRoCTOfxjwCt7L0gl2\" alt=\"Simply Easy Learning\" width=\"800\" \n",
        "         height=\"455\">\n"
      ]
    },
    {
      "cell_type": "code",
      "metadata": {
        "id": "AqsBKnwTNcVZ",
        "colab_type": "code",
        "colab": {}
      },
      "source": [
        "# Generar un X aleatorio de tamaño 20\n",
        "   # - Crear un Y1 en funcion de X  (Y = X**2)\n",
        "   # - Crear un Y2 aleatorio\n",
        "# Gráfica de dispersión\n",
        "# covarianza\n",
        "# coef corre. Pearson\n",
        "# Interpreten"
      ],
      "execution_count": null,
      "outputs": []
    }
  ]
}