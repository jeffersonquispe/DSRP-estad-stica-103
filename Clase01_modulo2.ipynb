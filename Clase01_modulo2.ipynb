{
  "nbformat": 4,
  "nbformat_minor": 0,
  "metadata": {
    "colab": {
      "name": "Clase01_modulo2.ipynb",
      "provenance": [],
      "collapsed_sections": [],
      "include_colab_link": true
    },
    "kernelspec": {
      "name": "python3",
      "display_name": "Python 3"
    }
  },
  "cells": [
    {
      "cell_type": "markdown",
      "metadata": {
        "id": "view-in-github",
        "colab_type": "text"
      },
      "source": [
        "<a href=\"https://colab.research.google.com/github/jeffersonquispe/DSRP-estadistica-102/blob/master/Clase01_modulo2.ipynb\" target=\"_parent\"><img src=\"https://colab.research.google.com/assets/colab-badge.svg\" alt=\"Open In Colab\"/></a>"
      ]
    },
    {
      "cell_type": "markdown",
      "metadata": {
        "id": "tuGAsfMfVQKd",
        "colab_type": "text"
      },
      "source": [
        " ![texto alternativo](https://drive.google.com/uc?export=view&id=14HGkNoRD0Cp4Z0KyPxvrLaj_u3eG97hC)"
      ]
    },
    {
      "cell_type": "markdown",
      "metadata": {
        "id": "acTm6PlXVSqM",
        "colab_type": "text"
      },
      "source": [
        " <img src=\"https://drive.google.com/uc?export=view&id=1wKyBmwYBb-hp7O6_xTXG-02-CzIIvlJB\" alt=\"Simply Easy Learning\" width=\"800\" \n",
        "         height=\"450\">\n",
        "\n",
        "\n",
        "      "
      ]
    },
    {
      "cell_type": "markdown",
      "metadata": {
        "id": "jnScIJom7-7v",
        "colab_type": "text"
      },
      "source": [
        " <img src=\"https://drive.google.com/uc?export=view&id=1xCth7cjqgBueZOkOjUatXaU6Af0RxjgQ\" alt=\"Simply Easy Learning\" width=\"800\" \n",
        "         height=\"450\">"
      ]
    },
    {
      "cell_type": "markdown",
      "metadata": {
        "id": "Y0JsFgWLuAKF",
        "colab_type": "text"
      },
      "source": [
        "Hagamos algunos experimentos:\n",
        "\n",
        "[Lanzemos un dado..](https://es.piliapp.com/random/dice/?num=4)\n",
        "\n",
        "[Giremos una Ruleta..](https://app-sorteos.com/es/apps/la-ruleta-decide)"
      ]
    },
    {
      "cell_type": "markdown",
      "metadata": {
        "id": "rGWv7r287p3K",
        "colab_type": "text"
      },
      "source": [
        " <img src=\"https://drive.google.com/uc?export=view&id=1t7hfu5D41d7PinHJ40ydZn9hYX7q85TD\" alt=\"Simply Easy Learning\" width=\"800\" \n",
        "         height=\"455\">"
      ]
    },
    {
      "cell_type": "markdown",
      "metadata": {
        "id": "0gfLpyDY7xWh",
        "colab_type": "text"
      },
      "source": [
        " <img src=\"https://drive.google.com/uc?export=view&id=1TMFNv1U5zsuKc88lykKavMO0p2zH2WmR\" alt=\"Simply Easy Learning\" width=\"800\" \n",
        "         height=\"455\">"
      ]
    },
    {
      "cell_type": "markdown",
      "metadata": {
        "id": "XL8ajjGo78yr",
        "colab_type": "text"
      },
      "source": [
        " <img src=\"https://drive.google.com/uc?export=view&id=1SPc4uJhv7SDWW9Aj5wgyzBJykanIZ2iy\" alt=\"Simply Easy Learning\" width=\"800\" \n",
        "         height=\"455\">"
      ]
    },
    {
      "cell_type": "markdown",
      "metadata": {
        "id": "cdxQXkcqxZPD",
        "colab_type": "text"
      },
      "source": [
        "* ¿Qué eventos podemos encontrar en el lanzamiento del dado?\n",
        "\n",
        "\n"
      ]
    },
    {
      "cell_type": "code",
      "metadata": {
        "id": "EUxXD4KdxYr6",
        "colab_type": "code",
        "colab": {}
      },
      "source": [
        ""
      ],
      "execution_count": null,
      "outputs": []
    },
    {
      "cell_type": "markdown",
      "metadata": {
        "id": "GHpn1x4D7kFh",
        "colab_type": "text"
      },
      "source": [
        " <img src=\"https://drive.google.com/uc?export=view&id=1yuk7sMsV_D0zTKY_Y728vxl8mnghA2Y8\" alt=\"Simply Easy Learning\" width=\"800\" \n",
        "         height=\"455\">"
      ]
    },
    {
      "cell_type": "markdown",
      "metadata": {
        "id": "eiAsGeLbx5O8",
        "colab_type": "text"
      },
      "source": [
        "* ¿Hay algún evento de donde $A\\subset B$ en el lanzamiento del dado?"
      ]
    },
    {
      "cell_type": "markdown",
      "metadata": {
        "id": "e47944EJ9ZVT",
        "colab_type": "text"
      },
      "source": [
        " <img src=\"https://drive.google.com/uc?export=view&id=1DqwYEpNlpwuVVA3fCXdWCkbomf9CLSP6\" alt=\"Simply Easy Learning\" width=\"800\" \n",
        "         height=\"455\">\n"
      ]
    },
    {
      "cell_type": "markdown",
      "metadata": {
        "id": "duoo-8Y5IyWP",
        "colab_type": "text"
      },
      "source": [
        " <img src=\"https://drive.google.com/uc?export=view&id=1Tc7fSi9XuRL44mZlRU4HlTpgiC_Hn8dh\" alt=\"Simply Easy Learning\" width=\"800\" \n",
        "         height=\"455\">\n"
      ]
    },
    {
      "cell_type": "markdown",
      "metadata": {
        "id": "eq5LqrzYLPXb",
        "colab_type": "text"
      },
      "source": [
        " <img src=\"https://drive.google.com/uc?export=view&id=15U3eOhTQXx1IBjEvoafio6YJBDrwjfxy\" alt=\"Simply Easy Learning\" width=\"800\" \n",
        "         height=\"455\">"
      ]
    },
    {
      "cell_type": "markdown",
      "metadata": {
        "id": "UZMdqddxLiOP",
        "colab_type": "text"
      },
      "source": [
        " <img src=\"https://drive.google.com/uc?export=view&id=18LI3Gl7Sz344ObTF2GyXzfN6_9pP3aRy\" alt=\"Simply Easy Learning\" width=\"800\" \n",
        "         height=\"455\">"
      ]
    },
    {
      "cell_type": "markdown",
      "metadata": {
        "id": "MAPWDaYELpmf",
        "colab_type": "text"
      },
      "source": [
        " <img src=\"https://drive.google.com/uc?export=view&id=17tLQaKMkigUH9GGKqxtj6kp4SNj7wie4\" alt=\"Simply Easy Learning\" width=\"800\" \n",
        "         height=\"455\">\n",
        "\n"
      ]
    },
    {
      "cell_type": "markdown",
      "metadata": {
        "id": "gbf09zpwLyqv",
        "colab_type": "text"
      },
      "source": [
        " <img src=\"https://drive.google.com/uc?export=view&id=1cyzmtxqEh_y_nn0YlWbsftQdarfcUs-7\" alt=\"Simply Easy Learning\" width=\"800\" \n",
        "         height=\"455\">\n",
        "\n",
        "\n"
      ]
    },
    {
      "cell_type": "markdown",
      "metadata": {
        "id": "MPfybtNLL9D3",
        "colab_type": "text"
      },
      "source": [
        " <img src=\"https://drive.google.com/uc?export=view&id=1fZ1z7aBUx121q6Xmp5ZFkMEMfvcxxRL5\" alt=\"Simply Easy Learning\" width=\"800\" \n",
        "         height=\"455\">"
      ]
    },
    {
      "cell_type": "markdown",
      "metadata": {
        "id": "PZ8wx3ccMIxP",
        "colab_type": "text"
      },
      "source": [
        " <img src=\"https://drive.google.com/uc?export=view&id=1qgQyJwz3JVtBKU3BTzZaRQodjM9_FI5m\" alt=\"Simply Easy Learning\" width=\"800\" \n",
        "         height=\"455\">"
      ]
    },
    {
      "cell_type": "markdown",
      "metadata": {
        "id": "_1egqMYzMUux",
        "colab_type": "text"
      },
      "source": [
        " <img src=\"https://drive.google.com/uc?export=view&id=1i1cflC7laK9ztVUd-j1PS8Q2NSmCfQgw\" alt=\"Simply Easy Learning\" width=\"800\" \n",
        "         height=\"455\">"
      ]
    },
    {
      "cell_type": "markdown",
      "metadata": {
        "id": "P6k135MPNm8S",
        "colab_type": "text"
      },
      "source": [
        " <img src=\"https://drive.google.com/uc?export=view&id=1Hqww2-gwLfKiCdgFAG1dcUNGm8nHwC4l\" alt=\"Simply Easy Learning\" width=\"800\" \n",
        "         height=\"455\">\n"
      ]
    },
    {
      "cell_type": "markdown",
      "metadata": {
        "id": "JYDPACTANu55",
        "colab_type": "text"
      },
      "source": [
        " <img src=\"https://drive.google.com/uc?export=view&id=16IRPZXLydFCKY1R54LFeyrGokAlLLs8z\" alt=\"Simply Easy Learning\" width=\"800\" \n",
        "         height=\"455\">\n"
      ]
    },
    {
      "cell_type": "markdown",
      "metadata": {
        "id": "ai85eFYs8PUx",
        "colab_type": "text"
      },
      "source": [
        " <img src=\"https://drive.google.com/uc?export=view&id=1nuh2VZYprGdY1y4R24ZaFbuZrHBFNkoq\" alt=\"Simply Easy Learning\" width=\"800\" \n",
        "         height=\"455\">"
      ]
    },
    {
      "cell_type": "markdown",
      "metadata": {
        "id": "Khk1o_8_CJ9r",
        "colab_type": "text"
      },
      "source": [
        " <img src=\"https://drive.google.com/uc?export=view&id=1v7EM76quOWoS9UMBjCj8CWQ30fB5YeLt\" alt=\"Simply Easy Learning\" width=\"800\" \n",
        "         height=\"455\">"
      ]
    },
    {
      "cell_type": "markdown",
      "metadata": {
        "id": "OzvOuXPHCLs-",
        "colab_type": "text"
      },
      "source": [
        " <img src=\"https://drive.google.com/uc?export=view&id=1Kz7Mj7M0aWCuLLGTTUFk_dWZeMCr8QiP\" alt=\"Simply Easy Learning\" width=\"800\" \n",
        "         height=\"455\">"
      ]
    },
    {
      "cell_type": "markdown",
      "metadata": {
        "id": "gxEP2B7YDYb2",
        "colab_type": "text"
      },
      "source": [
        " <img src=\"https://drive.google.com/uc?export=view&id=1O5QaAq5VRyEn20n5GHkKH-ACEcv7eObk\" alt=\"Simply Easy Learning\" width=\"800\" \n",
        "         height=\"455\">"
      ]
    },
    {
      "cell_type": "markdown",
      "metadata": {
        "id": "BYf2gq9BHQ7N",
        "colab_type": "text"
      },
      "source": [
        " <img src=\"https://drive.google.com/uc?export=view&id=1Ym_uLOgDTGu1cTFR4uPJDEWMZmz5k3sW\" alt=\"Simply Easy Learning\" width=\"800\" \n",
        "         height=\"455\">"
      ]
    },
    {
      "cell_type": "markdown",
      "metadata": {
        "id": "goxjEvtlEupW",
        "colab_type": "text"
      },
      "source": [
        " <img src=\"https://drive.google.com/uc?export=view&id=1DveXFDVxbF41RONbdDyBd8cp-uffjjHX\" alt=\"Simply Easy Learning\" width=\"1100\" \n",
        "         height=\"455\">"
      ]
    },
    {
      "cell_type": "markdown",
      "metadata": {
        "id": "F3CJkWeLIelA",
        "colab_type": "text"
      },
      "source": [
        " <img src=\"https://drive.google.com/uc?export=view&id=1od2Poa8rRqD-KlZry3cCvHy1J_Ums3ZF\" alt=\"Simply Easy Learning\" width=\"850\" \n",
        "         height=\"455\">"
      ]
    },
    {
      "cell_type": "markdown",
      "metadata": {
        "id": "Da4mmvHdJIVx",
        "colab_type": "text"
      },
      "source": [
        " <img src=\"https://drive.google.com/uc?export=view&id=1B3plQsqJV840qUVXlCvifm-ZCSESfdW_\" alt=\"Simply Easy Learning\" width=\"850\" \n",
        "         height=\"455\">"
      ]
    },
    {
      "cell_type": "markdown",
      "metadata": {
        "id": "yVye6o4XCiiS",
        "colab_type": "text"
      },
      "source": [
        " <img src=\"https://drive.google.com/uc?export=view&id=1IMw0n5axW2tZK2qTG86VmJHQ4xMf2zBP\" alt=\"Simply Easy Learning\" width=\"800\" \n",
        "         height=\"455\">"
      ]
    },
    {
      "cell_type": "code",
      "metadata": {
        "id": "AqsBKnwTNcVZ",
        "colab_type": "code",
        "colab": {}
      },
      "source": [
        ""
      ],
      "execution_count": null,
      "outputs": []
    }
  ]
}